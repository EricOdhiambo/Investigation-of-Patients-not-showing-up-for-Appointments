{
  "cells": [
    {
      "cell_type": "markdown",
      "metadata": {
        "id": "view-in-github",
        "colab_type": "text"
      },
      "source": [
        "<a href=\"https://colab.research.google.com/github/EricOdhiambo/Investigation-of-Patients-not-showing-up-for-Appointments/blob/master/Patients_NoShowup_for_Appointment_Investigation.ipynb\" target=\"_parent\"><img src=\"https://colab.research.google.com/assets/colab-badge.svg\" alt=\"Open In Colab\"/></a>"
      ]
    },
    {
      "cell_type": "markdown",
      "metadata": {
        "id": "ZvdbOdWUAxLU"
      },
      "source": [
        "# Project: Analysis of a No_showAppointments Dataset\n",
        "\n",
        "## Table of Contents\n",
        "<ul>\n",
        "<li><a href=\"#intro\">Introduction</a></li>\n",
        "<li><a href=\"#wrangling\">Data Wrangling</a></li>\n",
        "<li><a href=\"#eda\">Exploratory Data Analysis</a></li>\n",
        "<li><a href=\"#conclusions\">Conclusions</a></li>\n",
        "<li><a href=\"#References\">References</a></li>\n",
        "</ul>"
      ]
    },
    {
      "cell_type": "markdown",
      "metadata": {
        "id": "qLm0Y7ioAxLb"
      },
      "source": [
        "<a id='intro'></a>\n",
        "## Section 1: Introduction\n",
        "\n",
        "This poject aims to investigate the factors that relate to patients showing up for appointments once the appointments have been scheduled. The data set that has been selected for analysis purpose in this project is the <a href=\"https://d17h27t6h515a5.cloudfront.net/topher/2017/October/59dd2e9a_noshowappointments-kagglev2-may-2016/noshowappointments-kagglev2-may-2016.csv\">noshowappointments-kagglev2-may-2016.csv</a> data set. The tables in this dataset are PatientId, AppointmentID, ScheduledDay, AppointmentDay, Age, Neighbourhood (understood to be the hospital's location), Scholarship (the <a href=\"https://en.wikipedia.org/wiki/Bolsa_Fam%C3%ADlia\">Bolsa Familia</a> scholarship, a program in Latin-America countries like Brazil, to fund poor people and eventually cripple poverty), Hypertension, Diabetes, Alcoholism, Handcap (depicting if patient is handicapped or not), SMS_received (assumed to be whether the patient received appointment confirmation text) and No-show (entries of whether the patient showed up for the appointment or not)."
      ]
    },
    {
      "cell_type": "code",
      "execution_count": 1,
      "metadata": {
        "id": "sZgUQSZBAxLd"
      },
      "outputs": [],
      "source": [
        "# Setting up required packages and dependecies\n",
        "\n",
        "import pandas as pd\n",
        "import numpy as np \n",
        "import seaborn as sbn\n",
        "import matplotlib.pyplot as plt\n",
        "import sys\n",
        "%matplotlib inline"
      ]
    },
    {
      "cell_type": "code",
      "execution_count": 2,
      "metadata": {
        "colab": {
          "base_uri": "https://localhost:8080/"
        },
        "id": "ReSFasegAxLf",
        "outputId": "2107260d-90f0-4e0a-97b0-b9bc2008154c"
      },
      "outputs": [
        {
          "output_type": "stream",
          "name": "stdout",
          "text": [
            "1.3.5\n"
          ]
        }
      ],
      "source": [
        "# checking our pandas version first\n",
        "\n",
        "print(pd.__version__)"
      ]
    },
    {
      "cell_type": "code",
      "source": [
        "from google.colab import drive\n",
        "drive.mount('/content/drive')"
      ],
      "metadata": {
        "colab": {
          "base_uri": "https://localhost:8080/"
        },
        "id": "01Y9QqJy7HZ2",
        "outputId": "702d1551-7b14-4978-d1d3-e0cd90a7d833"
      },
      "execution_count": 3,
      "outputs": [
        {
          "output_type": "stream",
          "name": "stdout",
          "text": [
            "Mounted at /content/drive\n"
          ]
        }
      ]
    },
    {
      "cell_type": "markdown",
      "metadata": {
        "id": "SymSmRINAxLh"
      },
      "source": [
        "### Question(s) for Analysis\n",
        "\n",
        "The questions that were to be answered in this project include, but were not limited to:\n",
        "1. How many people showed up for an appointment ?\n",
        "2. For the scheduled appointments, what is the comparison of people by Gender ?\n",
        "3. What was the age distribution of the number of people who were scheduled for appointment ?\n",
        "4. How many people who were scheduled for appointments were under the Bolsa Familia Scholarship ?\n",
        "5. How many people scheduled for appointments were Hipertensive ?\n",
        "6. How many people were Diabetic ?\n",
        "7. How many people are alcoholic ?\n",
        "8. From the dataset how many people were handicapped ?\n",
        "9. How many people received SMS messages to attend an appointment ?"
      ]
    },
    {
      "cell_type": "markdown",
      "metadata": {
        "id": "fOVcDEgvAxLi"
      },
      "source": [
        "<a id='wrangling'></a>\n",
        "## Section 2: Data Wrangling\n",
        "In this phase, the CSV file containing the data was loaded as a data frame, printed to display some lines of the data and proceeded to carry out operations to check out the data types. I also went further to check for missing and even possibly data that was not correct. Later on, I sanitized the dataset and edited some and all of the columns to best serve in the Exploratory Data Analysis phase.\n",
        "\n",
        "\n",
        "### General Properties"
      ]
    },
    {
      "cell_type": "code",
      "execution_count": 4,
      "metadata": {
        "id": "4yDqHVrWAxLj"
      },
      "outputs": [],
      "source": [
        "#loading the dataset to be used\n",
        "no_showup_df = pd.read_csv('/content/drive/MyDrive/noshowappointments-kagglev2-may-2016.csv')"
      ]
    },
    {
      "cell_type": "code",
      "execution_count": 5,
      "metadata": {
        "colab": {
          "base_uri": "https://localhost:8080/",
          "height": 374
        },
        "id": "uXTD0BBwAxLk",
        "outputId": "9abc7b80-d9b7-4679-e16d-f73d80485f3d"
      },
      "outputs": [
        {
          "output_type": "execute_result",
          "data": {
            "text/plain": [
              "      PatientId  AppointmentID Gender          ScheduledDay  \\\n",
              "0  2.987250e+13        5642903      F  2016-04-29T18:38:08Z   \n",
              "1  5.589978e+14        5642503      M  2016-04-29T16:08:27Z   \n",
              "2  4.262962e+12        5642549      F  2016-04-29T16:19:04Z   \n",
              "3  8.679512e+11        5642828      F  2016-04-29T17:29:31Z   \n",
              "4  8.841186e+12        5642494      F  2016-04-29T16:07:23Z   \n",
              "\n",
              "         AppointmentDay  Age      Neighbourhood  Scholarship  Hipertension  \\\n",
              "0  2016-04-29T00:00:00Z   62    JARDIM DA PENHA            0             1   \n",
              "1  2016-04-29T00:00:00Z   56    JARDIM DA PENHA            0             0   \n",
              "2  2016-04-29T00:00:00Z   62      MATA DA PRAIA            0             0   \n",
              "3  2016-04-29T00:00:00Z    8  PONTAL DE CAMBURI            0             0   \n",
              "4  2016-04-29T00:00:00Z   56    JARDIM DA PENHA            0             1   \n",
              "\n",
              "   Diabetes  Alcoholism  Handcap  SMS_received No-show  \n",
              "0         0           0        0             0      No  \n",
              "1         0           0        0             0      No  \n",
              "2         0           0        0             0      No  \n",
              "3         0           0        0             0      No  \n",
              "4         1           0        0             0      No  "
            ],
            "text/html": [
              "\n",
              "  <div id=\"df-a239cf17-bf0e-4dcc-aea5-39e3ea170155\">\n",
              "    <div class=\"colab-df-container\">\n",
              "      <div>\n",
              "<style scoped>\n",
              "    .dataframe tbody tr th:only-of-type {\n",
              "        vertical-align: middle;\n",
              "    }\n",
              "\n",
              "    .dataframe tbody tr th {\n",
              "        vertical-align: top;\n",
              "    }\n",
              "\n",
              "    .dataframe thead th {\n",
              "        text-align: right;\n",
              "    }\n",
              "</style>\n",
              "<table border=\"1\" class=\"dataframe\">\n",
              "  <thead>\n",
              "    <tr style=\"text-align: right;\">\n",
              "      <th></th>\n",
              "      <th>PatientId</th>\n",
              "      <th>AppointmentID</th>\n",
              "      <th>Gender</th>\n",
              "      <th>ScheduledDay</th>\n",
              "      <th>AppointmentDay</th>\n",
              "      <th>Age</th>\n",
              "      <th>Neighbourhood</th>\n",
              "      <th>Scholarship</th>\n",
              "      <th>Hipertension</th>\n",
              "      <th>Diabetes</th>\n",
              "      <th>Alcoholism</th>\n",
              "      <th>Handcap</th>\n",
              "      <th>SMS_received</th>\n",
              "      <th>No-show</th>\n",
              "    </tr>\n",
              "  </thead>\n",
              "  <tbody>\n",
              "    <tr>\n",
              "      <th>0</th>\n",
              "      <td>2.987250e+13</td>\n",
              "      <td>5642903</td>\n",
              "      <td>F</td>\n",
              "      <td>2016-04-29T18:38:08Z</td>\n",
              "      <td>2016-04-29T00:00:00Z</td>\n",
              "      <td>62</td>\n",
              "      <td>JARDIM DA PENHA</td>\n",
              "      <td>0</td>\n",
              "      <td>1</td>\n",
              "      <td>0</td>\n",
              "      <td>0</td>\n",
              "      <td>0</td>\n",
              "      <td>0</td>\n",
              "      <td>No</td>\n",
              "    </tr>\n",
              "    <tr>\n",
              "      <th>1</th>\n",
              "      <td>5.589978e+14</td>\n",
              "      <td>5642503</td>\n",
              "      <td>M</td>\n",
              "      <td>2016-04-29T16:08:27Z</td>\n",
              "      <td>2016-04-29T00:00:00Z</td>\n",
              "      <td>56</td>\n",
              "      <td>JARDIM DA PENHA</td>\n",
              "      <td>0</td>\n",
              "      <td>0</td>\n",
              "      <td>0</td>\n",
              "      <td>0</td>\n",
              "      <td>0</td>\n",
              "      <td>0</td>\n",
              "      <td>No</td>\n",
              "    </tr>\n",
              "    <tr>\n",
              "      <th>2</th>\n",
              "      <td>4.262962e+12</td>\n",
              "      <td>5642549</td>\n",
              "      <td>F</td>\n",
              "      <td>2016-04-29T16:19:04Z</td>\n",
              "      <td>2016-04-29T00:00:00Z</td>\n",
              "      <td>62</td>\n",
              "      <td>MATA DA PRAIA</td>\n",
              "      <td>0</td>\n",
              "      <td>0</td>\n",
              "      <td>0</td>\n",
              "      <td>0</td>\n",
              "      <td>0</td>\n",
              "      <td>0</td>\n",
              "      <td>No</td>\n",
              "    </tr>\n",
              "    <tr>\n",
              "      <th>3</th>\n",
              "      <td>8.679512e+11</td>\n",
              "      <td>5642828</td>\n",
              "      <td>F</td>\n",
              "      <td>2016-04-29T17:29:31Z</td>\n",
              "      <td>2016-04-29T00:00:00Z</td>\n",
              "      <td>8</td>\n",
              "      <td>PONTAL DE CAMBURI</td>\n",
              "      <td>0</td>\n",
              "      <td>0</td>\n",
              "      <td>0</td>\n",
              "      <td>0</td>\n",
              "      <td>0</td>\n",
              "      <td>0</td>\n",
              "      <td>No</td>\n",
              "    </tr>\n",
              "    <tr>\n",
              "      <th>4</th>\n",
              "      <td>8.841186e+12</td>\n",
              "      <td>5642494</td>\n",
              "      <td>F</td>\n",
              "      <td>2016-04-29T16:07:23Z</td>\n",
              "      <td>2016-04-29T00:00:00Z</td>\n",
              "      <td>56</td>\n",
              "      <td>JARDIM DA PENHA</td>\n",
              "      <td>0</td>\n",
              "      <td>1</td>\n",
              "      <td>1</td>\n",
              "      <td>0</td>\n",
              "      <td>0</td>\n",
              "      <td>0</td>\n",
              "      <td>No</td>\n",
              "    </tr>\n",
              "  </tbody>\n",
              "</table>\n",
              "</div>\n",
              "      <button class=\"colab-df-convert\" onclick=\"convertToInteractive('df-a239cf17-bf0e-4dcc-aea5-39e3ea170155')\"\n",
              "              title=\"Convert this dataframe to an interactive table.\"\n",
              "              style=\"display:none;\">\n",
              "        \n",
              "  <svg xmlns=\"http://www.w3.org/2000/svg\" height=\"24px\"viewBox=\"0 0 24 24\"\n",
              "       width=\"24px\">\n",
              "    <path d=\"M0 0h24v24H0V0z\" fill=\"none\"/>\n",
              "    <path d=\"M18.56 5.44l.94 2.06.94-2.06 2.06-.94-2.06-.94-.94-2.06-.94 2.06-2.06.94zm-11 1L8.5 8.5l.94-2.06 2.06-.94-2.06-.94L8.5 2.5l-.94 2.06-2.06.94zm10 10l.94 2.06.94-2.06 2.06-.94-2.06-.94-.94-2.06-.94 2.06-2.06.94z\"/><path d=\"M17.41 7.96l-1.37-1.37c-.4-.4-.92-.59-1.43-.59-.52 0-1.04.2-1.43.59L10.3 9.45l-7.72 7.72c-.78.78-.78 2.05 0 2.83L4 21.41c.39.39.9.59 1.41.59.51 0 1.02-.2 1.41-.59l7.78-7.78 2.81-2.81c.8-.78.8-2.07 0-2.86zM5.41 20L4 18.59l7.72-7.72 1.47 1.35L5.41 20z\"/>\n",
              "  </svg>\n",
              "      </button>\n",
              "      \n",
              "  <style>\n",
              "    .colab-df-container {\n",
              "      display:flex;\n",
              "      flex-wrap:wrap;\n",
              "      gap: 12px;\n",
              "    }\n",
              "\n",
              "    .colab-df-convert {\n",
              "      background-color: #E8F0FE;\n",
              "      border: none;\n",
              "      border-radius: 50%;\n",
              "      cursor: pointer;\n",
              "      display: none;\n",
              "      fill: #1967D2;\n",
              "      height: 32px;\n",
              "      padding: 0 0 0 0;\n",
              "      width: 32px;\n",
              "    }\n",
              "\n",
              "    .colab-df-convert:hover {\n",
              "      background-color: #E2EBFA;\n",
              "      box-shadow: 0px 1px 2px rgba(60, 64, 67, 0.3), 0px 1px 3px 1px rgba(60, 64, 67, 0.15);\n",
              "      fill: #174EA6;\n",
              "    }\n",
              "\n",
              "    [theme=dark] .colab-df-convert {\n",
              "      background-color: #3B4455;\n",
              "      fill: #D2E3FC;\n",
              "    }\n",
              "\n",
              "    [theme=dark] .colab-df-convert:hover {\n",
              "      background-color: #434B5C;\n",
              "      box-shadow: 0px 1px 3px 1px rgba(0, 0, 0, 0.15);\n",
              "      filter: drop-shadow(0px 1px 2px rgba(0, 0, 0, 0.3));\n",
              "      fill: #FFFFFF;\n",
              "    }\n",
              "  </style>\n",
              "\n",
              "      <script>\n",
              "        const buttonEl =\n",
              "          document.querySelector('#df-a239cf17-bf0e-4dcc-aea5-39e3ea170155 button.colab-df-convert');\n",
              "        buttonEl.style.display =\n",
              "          google.colab.kernel.accessAllowed ? 'block' : 'none';\n",
              "\n",
              "        async function convertToInteractive(key) {\n",
              "          const element = document.querySelector('#df-a239cf17-bf0e-4dcc-aea5-39e3ea170155');\n",
              "          const dataTable =\n",
              "            await google.colab.kernel.invokeFunction('convertToInteractive',\n",
              "                                                     [key], {});\n",
              "          if (!dataTable) return;\n",
              "\n",
              "          const docLinkHtml = 'Like what you see? Visit the ' +\n",
              "            '<a target=\"_blank\" href=https://colab.research.google.com/notebooks/data_table.ipynb>data table notebook</a>'\n",
              "            + ' to learn more about interactive tables.';\n",
              "          element.innerHTML = '';\n",
              "          dataTable['output_type'] = 'display_data';\n",
              "          await google.colab.output.renderOutput(dataTable, element);\n",
              "          const docLink = document.createElement('div');\n",
              "          docLink.innerHTML = docLinkHtml;\n",
              "          element.appendChild(docLink);\n",
              "        }\n",
              "      </script>\n",
              "    </div>\n",
              "  </div>\n",
              "  "
            ]
          },
          "metadata": {},
          "execution_count": 5
        }
      ],
      "source": [
        "#dispalying dataset head section\n",
        "no_showup_df.head()"
      ]
    },
    {
      "cell_type": "code",
      "execution_count": 6,
      "metadata": {
        "colab": {
          "base_uri": "https://localhost:8080/",
          "height": 374
        },
        "id": "lq56OunHAxLl",
        "outputId": "d638849a-c946-4ae4-99da-2a5f99192dbf"
      },
      "outputs": [
        {
          "output_type": "execute_result",
          "data": {
            "text/plain": [
              "           PatientId  AppointmentID Gender          ScheduledDay  \\\n",
              "110522  2.572134e+12        5651768      F  2016-05-03T09:15:35Z   \n",
              "110523  3.596266e+12        5650093      F  2016-05-03T07:27:33Z   \n",
              "110524  1.557663e+13        5630692      F  2016-04-27T16:03:52Z   \n",
              "110525  9.213493e+13        5630323      F  2016-04-27T15:09:23Z   \n",
              "110526  3.775115e+14        5629448      F  2016-04-27T13:30:56Z   \n",
              "\n",
              "              AppointmentDay  Age Neighbourhood  Scholarship  Hipertension  \\\n",
              "110522  2016-06-07T00:00:00Z   56   MARIA ORTIZ            0             0   \n",
              "110523  2016-06-07T00:00:00Z   51   MARIA ORTIZ            0             0   \n",
              "110524  2016-06-07T00:00:00Z   21   MARIA ORTIZ            0             0   \n",
              "110525  2016-06-07T00:00:00Z   38   MARIA ORTIZ            0             0   \n",
              "110526  2016-06-07T00:00:00Z   54   MARIA ORTIZ            0             0   \n",
              "\n",
              "        Diabetes  Alcoholism  Handcap  SMS_received No-show  \n",
              "110522         0           0        0             1      No  \n",
              "110523         0           0        0             1      No  \n",
              "110524         0           0        0             1      No  \n",
              "110525         0           0        0             1      No  \n",
              "110526         0           0        0             1      No  "
            ],
            "text/html": [
              "\n",
              "  <div id=\"df-3fd9b7b3-b648-46a8-ba6d-f4d9b1cc16bb\">\n",
              "    <div class=\"colab-df-container\">\n",
              "      <div>\n",
              "<style scoped>\n",
              "    .dataframe tbody tr th:only-of-type {\n",
              "        vertical-align: middle;\n",
              "    }\n",
              "\n",
              "    .dataframe tbody tr th {\n",
              "        vertical-align: top;\n",
              "    }\n",
              "\n",
              "    .dataframe thead th {\n",
              "        text-align: right;\n",
              "    }\n",
              "</style>\n",
              "<table border=\"1\" class=\"dataframe\">\n",
              "  <thead>\n",
              "    <tr style=\"text-align: right;\">\n",
              "      <th></th>\n",
              "      <th>PatientId</th>\n",
              "      <th>AppointmentID</th>\n",
              "      <th>Gender</th>\n",
              "      <th>ScheduledDay</th>\n",
              "      <th>AppointmentDay</th>\n",
              "      <th>Age</th>\n",
              "      <th>Neighbourhood</th>\n",
              "      <th>Scholarship</th>\n",
              "      <th>Hipertension</th>\n",
              "      <th>Diabetes</th>\n",
              "      <th>Alcoholism</th>\n",
              "      <th>Handcap</th>\n",
              "      <th>SMS_received</th>\n",
              "      <th>No-show</th>\n",
              "    </tr>\n",
              "  </thead>\n",
              "  <tbody>\n",
              "    <tr>\n",
              "      <th>110522</th>\n",
              "      <td>2.572134e+12</td>\n",
              "      <td>5651768</td>\n",
              "      <td>F</td>\n",
              "      <td>2016-05-03T09:15:35Z</td>\n",
              "      <td>2016-06-07T00:00:00Z</td>\n",
              "      <td>56</td>\n",
              "      <td>MARIA ORTIZ</td>\n",
              "      <td>0</td>\n",
              "      <td>0</td>\n",
              "      <td>0</td>\n",
              "      <td>0</td>\n",
              "      <td>0</td>\n",
              "      <td>1</td>\n",
              "      <td>No</td>\n",
              "    </tr>\n",
              "    <tr>\n",
              "      <th>110523</th>\n",
              "      <td>3.596266e+12</td>\n",
              "      <td>5650093</td>\n",
              "      <td>F</td>\n",
              "      <td>2016-05-03T07:27:33Z</td>\n",
              "      <td>2016-06-07T00:00:00Z</td>\n",
              "      <td>51</td>\n",
              "      <td>MARIA ORTIZ</td>\n",
              "      <td>0</td>\n",
              "      <td>0</td>\n",
              "      <td>0</td>\n",
              "      <td>0</td>\n",
              "      <td>0</td>\n",
              "      <td>1</td>\n",
              "      <td>No</td>\n",
              "    </tr>\n",
              "    <tr>\n",
              "      <th>110524</th>\n",
              "      <td>1.557663e+13</td>\n",
              "      <td>5630692</td>\n",
              "      <td>F</td>\n",
              "      <td>2016-04-27T16:03:52Z</td>\n",
              "      <td>2016-06-07T00:00:00Z</td>\n",
              "      <td>21</td>\n",
              "      <td>MARIA ORTIZ</td>\n",
              "      <td>0</td>\n",
              "      <td>0</td>\n",
              "      <td>0</td>\n",
              "      <td>0</td>\n",
              "      <td>0</td>\n",
              "      <td>1</td>\n",
              "      <td>No</td>\n",
              "    </tr>\n",
              "    <tr>\n",
              "      <th>110525</th>\n",
              "      <td>9.213493e+13</td>\n",
              "      <td>5630323</td>\n",
              "      <td>F</td>\n",
              "      <td>2016-04-27T15:09:23Z</td>\n",
              "      <td>2016-06-07T00:00:00Z</td>\n",
              "      <td>38</td>\n",
              "      <td>MARIA ORTIZ</td>\n",
              "      <td>0</td>\n",
              "      <td>0</td>\n",
              "      <td>0</td>\n",
              "      <td>0</td>\n",
              "      <td>0</td>\n",
              "      <td>1</td>\n",
              "      <td>No</td>\n",
              "    </tr>\n",
              "    <tr>\n",
              "      <th>110526</th>\n",
              "      <td>3.775115e+14</td>\n",
              "      <td>5629448</td>\n",
              "      <td>F</td>\n",
              "      <td>2016-04-27T13:30:56Z</td>\n",
              "      <td>2016-06-07T00:00:00Z</td>\n",
              "      <td>54</td>\n",
              "      <td>MARIA ORTIZ</td>\n",
              "      <td>0</td>\n",
              "      <td>0</td>\n",
              "      <td>0</td>\n",
              "      <td>0</td>\n",
              "      <td>0</td>\n",
              "      <td>1</td>\n",
              "      <td>No</td>\n",
              "    </tr>\n",
              "  </tbody>\n",
              "</table>\n",
              "</div>\n",
              "      <button class=\"colab-df-convert\" onclick=\"convertToInteractive('df-3fd9b7b3-b648-46a8-ba6d-f4d9b1cc16bb')\"\n",
              "              title=\"Convert this dataframe to an interactive table.\"\n",
              "              style=\"display:none;\">\n",
              "        \n",
              "  <svg xmlns=\"http://www.w3.org/2000/svg\" height=\"24px\"viewBox=\"0 0 24 24\"\n",
              "       width=\"24px\">\n",
              "    <path d=\"M0 0h24v24H0V0z\" fill=\"none\"/>\n",
              "    <path d=\"M18.56 5.44l.94 2.06.94-2.06 2.06-.94-2.06-.94-.94-2.06-.94 2.06-2.06.94zm-11 1L8.5 8.5l.94-2.06 2.06-.94-2.06-.94L8.5 2.5l-.94 2.06-2.06.94zm10 10l.94 2.06.94-2.06 2.06-.94-2.06-.94-.94-2.06-.94 2.06-2.06.94z\"/><path d=\"M17.41 7.96l-1.37-1.37c-.4-.4-.92-.59-1.43-.59-.52 0-1.04.2-1.43.59L10.3 9.45l-7.72 7.72c-.78.78-.78 2.05 0 2.83L4 21.41c.39.39.9.59 1.41.59.51 0 1.02-.2 1.41-.59l7.78-7.78 2.81-2.81c.8-.78.8-2.07 0-2.86zM5.41 20L4 18.59l7.72-7.72 1.47 1.35L5.41 20z\"/>\n",
              "  </svg>\n",
              "      </button>\n",
              "      \n",
              "  <style>\n",
              "    .colab-df-container {\n",
              "      display:flex;\n",
              "      flex-wrap:wrap;\n",
              "      gap: 12px;\n",
              "    }\n",
              "\n",
              "    .colab-df-convert {\n",
              "      background-color: #E8F0FE;\n",
              "      border: none;\n",
              "      border-radius: 50%;\n",
              "      cursor: pointer;\n",
              "      display: none;\n",
              "      fill: #1967D2;\n",
              "      height: 32px;\n",
              "      padding: 0 0 0 0;\n",
              "      width: 32px;\n",
              "    }\n",
              "\n",
              "    .colab-df-convert:hover {\n",
              "      background-color: #E2EBFA;\n",
              "      box-shadow: 0px 1px 2px rgba(60, 64, 67, 0.3), 0px 1px 3px 1px rgba(60, 64, 67, 0.15);\n",
              "      fill: #174EA6;\n",
              "    }\n",
              "\n",
              "    [theme=dark] .colab-df-convert {\n",
              "      background-color: #3B4455;\n",
              "      fill: #D2E3FC;\n",
              "    }\n",
              "\n",
              "    [theme=dark] .colab-df-convert:hover {\n",
              "      background-color: #434B5C;\n",
              "      box-shadow: 0px 1px 3px 1px rgba(0, 0, 0, 0.15);\n",
              "      filter: drop-shadow(0px 1px 2px rgba(0, 0, 0, 0.3));\n",
              "      fill: #FFFFFF;\n",
              "    }\n",
              "  </style>\n",
              "\n",
              "      <script>\n",
              "        const buttonEl =\n",
              "          document.querySelector('#df-3fd9b7b3-b648-46a8-ba6d-f4d9b1cc16bb button.colab-df-convert');\n",
              "        buttonEl.style.display =\n",
              "          google.colab.kernel.accessAllowed ? 'block' : 'none';\n",
              "\n",
              "        async function convertToInteractive(key) {\n",
              "          const element = document.querySelector('#df-3fd9b7b3-b648-46a8-ba6d-f4d9b1cc16bb');\n",
              "          const dataTable =\n",
              "            await google.colab.kernel.invokeFunction('convertToInteractive',\n",
              "                                                     [key], {});\n",
              "          if (!dataTable) return;\n",
              "\n",
              "          const docLinkHtml = 'Like what you see? Visit the ' +\n",
              "            '<a target=\"_blank\" href=https://colab.research.google.com/notebooks/data_table.ipynb>data table notebook</a>'\n",
              "            + ' to learn more about interactive tables.';\n",
              "          element.innerHTML = '';\n",
              "          dataTable['output_type'] = 'display_data';\n",
              "          await google.colab.output.renderOutput(dataTable, element);\n",
              "          const docLink = document.createElement('div');\n",
              "          docLink.innerHTML = docLinkHtml;\n",
              "          element.appendChild(docLink);\n",
              "        }\n",
              "      </script>\n",
              "    </div>\n",
              "  </div>\n",
              "  "
            ]
          },
          "metadata": {},
          "execution_count": 6
        }
      ],
      "source": [
        "#checking dataset last few rows\n",
        "no_showup_df.tail(5)"
      ]
    },
    {
      "cell_type": "markdown",
      "metadata": {
        "id": "qKbQmf36AxLm"
      },
      "source": [
        "Displayed above are two sections of the dataset, the first 5 and last 5 rows"
      ]
    },
    {
      "cell_type": "code",
      "execution_count": 7,
      "metadata": {
        "colab": {
          "base_uri": "https://localhost:8080/"
        },
        "id": "bAzLYhwqAxLn",
        "outputId": "3001dd74-3d78-462a-f399-b3f7126861e2"
      },
      "outputs": [
        {
          "output_type": "stream",
          "name": "stdout",
          "text": [
            "Rows in our dataset are 110527\n"
          ]
        }
      ],
      "source": [
        "#checking the number of rows in out dataset\n",
        "\n",
        "print('Rows in our dataset are', len(no_showup_df))"
      ]
    },
    {
      "cell_type": "code",
      "execution_count": 8,
      "metadata": {
        "colab": {
          "base_uri": "https://localhost:8080/"
        },
        "id": "K4EhfrtcAxLo",
        "outputId": "dfc520f1-b49e-44fd-f1a7-9b08a78e67ef"
      },
      "outputs": [
        {
          "output_type": "stream",
          "name": "stdout",
          "text": [
            "Columns in our dataset are 14\n"
          ]
        }
      ],
      "source": [
        "#checking the number of columns in out dataset\n",
        "\n",
        "print('Columns in our dataset are', len(no_showup_df.columns))"
      ]
    },
    {
      "cell_type": "code",
      "execution_count": 9,
      "metadata": {
        "colab": {
          "base_uri": "https://localhost:8080/"
        },
        "id": "8grPhiiRAxLo",
        "outputId": "ca7995be-090c-4dcb-8e78-460e27fe462a"
      },
      "outputs": [
        {
          "output_type": "execute_result",
          "data": {
            "text/plain": [
              "Index(['PatientId', 'AppointmentID', 'Gender', 'ScheduledDay',\n",
              "       'AppointmentDay', 'Age', 'Neighbourhood', 'Scholarship', 'Hipertension',\n",
              "       'Diabetes', 'Alcoholism', 'Handcap', 'SMS_received', 'No-show'],\n",
              "      dtype='object')"
            ]
          },
          "metadata": {},
          "execution_count": 9
        }
      ],
      "source": [
        "#checking the columns present in out dataset\n",
        "\n",
        "no_showup_df.columns"
      ]
    },
    {
      "cell_type": "code",
      "execution_count": 10,
      "metadata": {
        "colab": {
          "base_uri": "https://localhost:8080/"
        },
        "id": "Rg28Sv-ZAxLp",
        "outputId": "728811d5-24f4-45cb-a85c-f5675f74de5b"
      },
      "outputs": [
        {
          "output_type": "execute_result",
          "data": {
            "text/plain": [
              "PatientId         float64\n",
              "AppointmentID       int64\n",
              "Gender             object\n",
              "ScheduledDay       object\n",
              "AppointmentDay     object\n",
              "Age                 int64\n",
              "Neighbourhood      object\n",
              "Scholarship         int64\n",
              "Hipertension        int64\n",
              "Diabetes            int64\n",
              "Alcoholism          int64\n",
              "Handcap             int64\n",
              "SMS_received        int64\n",
              "No-show            object\n",
              "dtype: object"
            ]
          },
          "metadata": {},
          "execution_count": 10
        }
      ],
      "source": [
        "#examining the columns data types\n",
        "\n",
        "no_showup_df.dtypes"
      ]
    },
    {
      "cell_type": "markdown",
      "metadata": {
        "id": "D5IBxiiIAxLq"
      },
      "source": [
        "No column in the dataset had a missing values as shown after running the next code cell. "
      ]
    },
    {
      "cell_type": "code",
      "execution_count": 11,
      "metadata": {
        "colab": {
          "base_uri": "https://localhost:8080/"
        },
        "id": "r2P4zrS-AxLq",
        "outputId": "3635a3b3-4923-4229-ae50-17fabba49249"
      },
      "outputs": [
        {
          "output_type": "execute_result",
          "data": {
            "text/plain": [
              "PatientId         0\n",
              "AppointmentID     0\n",
              "Gender            0\n",
              "ScheduledDay      0\n",
              "AppointmentDay    0\n",
              "Age               0\n",
              "Neighbourhood     0\n",
              "Scholarship       0\n",
              "Hipertension      0\n",
              "Diabetes          0\n",
              "Alcoholism        0\n",
              "Handcap           0\n",
              "SMS_received      0\n",
              "No-show           0\n",
              "dtype: int64"
            ]
          },
          "metadata": {},
          "execution_count": 11
        }
      ],
      "source": [
        "#checking the number of missing values in our data frame columns\n",
        "\n",
        "no_showup_df.isna().sum()"
      ]
    },
    {
      "cell_type": "markdown",
      "metadata": {
        "id": "7jBiUDtnAxLr"
      },
      "source": [
        "I then proceed to checking for any duplicate rows. I discovered that our dataset had no duplicate row values."
      ]
    },
    {
      "cell_type": "code",
      "execution_count": 12,
      "metadata": {
        "colab": {
          "base_uri": "https://localhost:8080/"
        },
        "id": "QdRMNWKeAxLr",
        "outputId": "c43820eb-ceb7-4107-e7d7-fee75056024b"
      },
      "outputs": [
        {
          "output_type": "execute_result",
          "data": {
            "text/plain": [
              "0"
            ]
          },
          "metadata": {},
          "execution_count": 12
        }
      ],
      "source": [
        "# checking if the dataframe has duplicate values using the sum() function\n",
        "\n",
        "duplicate_rows = no_showup_df[no_showup_df.duplicated()]\n",
        "sum(no_showup_df.duplicated())"
      ]
    },
    {
      "cell_type": "markdown",
      "metadata": {
        "id": "g-Y189iaAxLs"
      },
      "source": [
        "After running some individual commands to check the data frame's general information, here is a quick summary of the dataset information. It shows the column names, zero count of null values in each column and lastly the data types of each column. This information would help us in our next phases of cleaning and exploring the data set.\n"
      ]
    },
    {
      "cell_type": "code",
      "execution_count": 13,
      "metadata": {
        "colab": {
          "base_uri": "https://localhost:8080/"
        },
        "id": "JTILuDxWAxLu",
        "outputId": "7e653b5e-2d60-423b-97d5-1c9c03d953d5"
      },
      "outputs": [
        {
          "output_type": "stream",
          "name": "stdout",
          "text": [
            "<class 'pandas.core.frame.DataFrame'>\n",
            "RangeIndex: 110527 entries, 0 to 110526\n",
            "Data columns (total 14 columns):\n",
            " #   Column          Non-Null Count   Dtype  \n",
            "---  ------          --------------   -----  \n",
            " 0   PatientId       110527 non-null  float64\n",
            " 1   AppointmentID   110527 non-null  int64  \n",
            " 2   Gender          110527 non-null  object \n",
            " 3   ScheduledDay    110527 non-null  object \n",
            " 4   AppointmentDay  110527 non-null  object \n",
            " 5   Age             110527 non-null  int64  \n",
            " 6   Neighbourhood   110527 non-null  object \n",
            " 7   Scholarship     110527 non-null  int64  \n",
            " 8   Hipertension    110527 non-null  int64  \n",
            " 9   Diabetes        110527 non-null  int64  \n",
            " 10  Alcoholism      110527 non-null  int64  \n",
            " 11  Handcap         110527 non-null  int64  \n",
            " 12  SMS_received    110527 non-null  int64  \n",
            " 13  No-show         110527 non-null  object \n",
            "dtypes: float64(1), int64(8), object(5)\n",
            "memory usage: 11.8+ MB\n"
          ]
        }
      ],
      "source": [
        "# A summary of the data frame information\n",
        "no_showup_df.info()"
      ]
    },
    {
      "cell_type": "markdown",
      "metadata": {
        "id": "5Tn4xyo5AxLv"
      },
      "source": [
        "### Data Cleaning "
      ]
    },
    {
      "cell_type": "markdown",
      "metadata": {
        "id": "DCDqIyETAxLv"
      },
      "source": [
        "After checking the data set, cleaning and tweaking some entries of the dataset was required. This was important to ensure no Python errors would be experienced when converting the dataset to data frame for further exploration and analysis. These included removing special character form different column, renaming a column, changing all column names to lowercase and finally saving the dataset as a new dataset."
      ]
    },
    {
      "cell_type": "markdown",
      "metadata": {
        "id": "gC2XhgJQAxLv"
      },
      "source": [
        "#### 1. Removing special characters"
      ]
    },
    {
      "cell_type": "markdown",
      "metadata": {
        "id": "jiP90aQsAxLw"
      },
      "source": [
        "After assessing the dataset, I decide to clean it. The first step was removing any special characters that were present within different columns of the data set. The first cleaning was performed on the Neighebourhood column. The enrtries in this column had a number of special characters and this would have perhaps posed an error when analysing the data according to different Neighbourhoods. "
      ]
    },
    {
      "cell_type": "code",
      "execution_count": 14,
      "metadata": {
        "colab": {
          "base_uri": "https://localhost:8080/",
          "height": 374
        },
        "id": "G2vmMc6SAxLw",
        "outputId": "7d82539b-b59b-4033-99da-9805da59f503"
      },
      "outputs": [
        {
          "output_type": "execute_result",
          "data": {
            "text/plain": [
              "      PatientId  AppointmentID Gender          ScheduledDay  \\\n",
              "0  2.987250e+13        5642903      F  2016-04-29T18:38:08Z   \n",
              "1  5.589978e+14        5642503      M  2016-04-29T16:08:27Z   \n",
              "2  4.262962e+12        5642549      F  2016-04-29T16:19:04Z   \n",
              "3  8.679512e+11        5642828      F  2016-04-29T17:29:31Z   \n",
              "4  8.841186e+12        5642494      F  2016-04-29T16:07:23Z   \n",
              "\n",
              "         AppointmentDay  Age      Neighbourhood  Scholarship  Hipertension  \\\n",
              "0  2016-04-29T00:00:00Z   62    JARDIM DA PENHA            0             1   \n",
              "1  2016-04-29T00:00:00Z   56    JARDIM DA PENHA            0             0   \n",
              "2  2016-04-29T00:00:00Z   62      MATA DA PRAIA            0             0   \n",
              "3  2016-04-29T00:00:00Z    8  PONTAL DE CAMBURI            0             0   \n",
              "4  2016-04-29T00:00:00Z   56    JARDIM DA PENHA            0             1   \n",
              "\n",
              "   Diabetes  Alcoholism  Handcap  SMS_received No-show  \n",
              "0         0           0        0             0      No  \n",
              "1         0           0        0             0      No  \n",
              "2         0           0        0             0      No  \n",
              "3         0           0        0             0      No  \n",
              "4         1           0        0             0      No  "
            ],
            "text/html": [
              "\n",
              "  <div id=\"df-e33b1dd7-eddd-4212-9e97-1998f308100b\">\n",
              "    <div class=\"colab-df-container\">\n",
              "      <div>\n",
              "<style scoped>\n",
              "    .dataframe tbody tr th:only-of-type {\n",
              "        vertical-align: middle;\n",
              "    }\n",
              "\n",
              "    .dataframe tbody tr th {\n",
              "        vertical-align: top;\n",
              "    }\n",
              "\n",
              "    .dataframe thead th {\n",
              "        text-align: right;\n",
              "    }\n",
              "</style>\n",
              "<table border=\"1\" class=\"dataframe\">\n",
              "  <thead>\n",
              "    <tr style=\"text-align: right;\">\n",
              "      <th></th>\n",
              "      <th>PatientId</th>\n",
              "      <th>AppointmentID</th>\n",
              "      <th>Gender</th>\n",
              "      <th>ScheduledDay</th>\n",
              "      <th>AppointmentDay</th>\n",
              "      <th>Age</th>\n",
              "      <th>Neighbourhood</th>\n",
              "      <th>Scholarship</th>\n",
              "      <th>Hipertension</th>\n",
              "      <th>Diabetes</th>\n",
              "      <th>Alcoholism</th>\n",
              "      <th>Handcap</th>\n",
              "      <th>SMS_received</th>\n",
              "      <th>No-show</th>\n",
              "    </tr>\n",
              "  </thead>\n",
              "  <tbody>\n",
              "    <tr>\n",
              "      <th>0</th>\n",
              "      <td>2.987250e+13</td>\n",
              "      <td>5642903</td>\n",
              "      <td>F</td>\n",
              "      <td>2016-04-29T18:38:08Z</td>\n",
              "      <td>2016-04-29T00:00:00Z</td>\n",
              "      <td>62</td>\n",
              "      <td>JARDIM DA PENHA</td>\n",
              "      <td>0</td>\n",
              "      <td>1</td>\n",
              "      <td>0</td>\n",
              "      <td>0</td>\n",
              "      <td>0</td>\n",
              "      <td>0</td>\n",
              "      <td>No</td>\n",
              "    </tr>\n",
              "    <tr>\n",
              "      <th>1</th>\n",
              "      <td>5.589978e+14</td>\n",
              "      <td>5642503</td>\n",
              "      <td>M</td>\n",
              "      <td>2016-04-29T16:08:27Z</td>\n",
              "      <td>2016-04-29T00:00:00Z</td>\n",
              "      <td>56</td>\n",
              "      <td>JARDIM DA PENHA</td>\n",
              "      <td>0</td>\n",
              "      <td>0</td>\n",
              "      <td>0</td>\n",
              "      <td>0</td>\n",
              "      <td>0</td>\n",
              "      <td>0</td>\n",
              "      <td>No</td>\n",
              "    </tr>\n",
              "    <tr>\n",
              "      <th>2</th>\n",
              "      <td>4.262962e+12</td>\n",
              "      <td>5642549</td>\n",
              "      <td>F</td>\n",
              "      <td>2016-04-29T16:19:04Z</td>\n",
              "      <td>2016-04-29T00:00:00Z</td>\n",
              "      <td>62</td>\n",
              "      <td>MATA DA PRAIA</td>\n",
              "      <td>0</td>\n",
              "      <td>0</td>\n",
              "      <td>0</td>\n",
              "      <td>0</td>\n",
              "      <td>0</td>\n",
              "      <td>0</td>\n",
              "      <td>No</td>\n",
              "    </tr>\n",
              "    <tr>\n",
              "      <th>3</th>\n",
              "      <td>8.679512e+11</td>\n",
              "      <td>5642828</td>\n",
              "      <td>F</td>\n",
              "      <td>2016-04-29T17:29:31Z</td>\n",
              "      <td>2016-04-29T00:00:00Z</td>\n",
              "      <td>8</td>\n",
              "      <td>PONTAL DE CAMBURI</td>\n",
              "      <td>0</td>\n",
              "      <td>0</td>\n",
              "      <td>0</td>\n",
              "      <td>0</td>\n",
              "      <td>0</td>\n",
              "      <td>0</td>\n",
              "      <td>No</td>\n",
              "    </tr>\n",
              "    <tr>\n",
              "      <th>4</th>\n",
              "      <td>8.841186e+12</td>\n",
              "      <td>5642494</td>\n",
              "      <td>F</td>\n",
              "      <td>2016-04-29T16:07:23Z</td>\n",
              "      <td>2016-04-29T00:00:00Z</td>\n",
              "      <td>56</td>\n",
              "      <td>JARDIM DA PENHA</td>\n",
              "      <td>0</td>\n",
              "      <td>1</td>\n",
              "      <td>1</td>\n",
              "      <td>0</td>\n",
              "      <td>0</td>\n",
              "      <td>0</td>\n",
              "      <td>No</td>\n",
              "    </tr>\n",
              "  </tbody>\n",
              "</table>\n",
              "</div>\n",
              "      <button class=\"colab-df-convert\" onclick=\"convertToInteractive('df-e33b1dd7-eddd-4212-9e97-1998f308100b')\"\n",
              "              title=\"Convert this dataframe to an interactive table.\"\n",
              "              style=\"display:none;\">\n",
              "        \n",
              "  <svg xmlns=\"http://www.w3.org/2000/svg\" height=\"24px\"viewBox=\"0 0 24 24\"\n",
              "       width=\"24px\">\n",
              "    <path d=\"M0 0h24v24H0V0z\" fill=\"none\"/>\n",
              "    <path d=\"M18.56 5.44l.94 2.06.94-2.06 2.06-.94-2.06-.94-.94-2.06-.94 2.06-2.06.94zm-11 1L8.5 8.5l.94-2.06 2.06-.94-2.06-.94L8.5 2.5l-.94 2.06-2.06.94zm10 10l.94 2.06.94-2.06 2.06-.94-2.06-.94-.94-2.06-.94 2.06-2.06.94z\"/><path d=\"M17.41 7.96l-1.37-1.37c-.4-.4-.92-.59-1.43-.59-.52 0-1.04.2-1.43.59L10.3 9.45l-7.72 7.72c-.78.78-.78 2.05 0 2.83L4 21.41c.39.39.9.59 1.41.59.51 0 1.02-.2 1.41-.59l7.78-7.78 2.81-2.81c.8-.78.8-2.07 0-2.86zM5.41 20L4 18.59l7.72-7.72 1.47 1.35L5.41 20z\"/>\n",
              "  </svg>\n",
              "      </button>\n",
              "      \n",
              "  <style>\n",
              "    .colab-df-container {\n",
              "      display:flex;\n",
              "      flex-wrap:wrap;\n",
              "      gap: 12px;\n",
              "    }\n",
              "\n",
              "    .colab-df-convert {\n",
              "      background-color: #E8F0FE;\n",
              "      border: none;\n",
              "      border-radius: 50%;\n",
              "      cursor: pointer;\n",
              "      display: none;\n",
              "      fill: #1967D2;\n",
              "      height: 32px;\n",
              "      padding: 0 0 0 0;\n",
              "      width: 32px;\n",
              "    }\n",
              "\n",
              "    .colab-df-convert:hover {\n",
              "      background-color: #E2EBFA;\n",
              "      box-shadow: 0px 1px 2px rgba(60, 64, 67, 0.3), 0px 1px 3px 1px rgba(60, 64, 67, 0.15);\n",
              "      fill: #174EA6;\n",
              "    }\n",
              "\n",
              "    [theme=dark] .colab-df-convert {\n",
              "      background-color: #3B4455;\n",
              "      fill: #D2E3FC;\n",
              "    }\n",
              "\n",
              "    [theme=dark] .colab-df-convert:hover {\n",
              "      background-color: #434B5C;\n",
              "      box-shadow: 0px 1px 3px 1px rgba(0, 0, 0, 0.15);\n",
              "      filter: drop-shadow(0px 1px 2px rgba(0, 0, 0, 0.3));\n",
              "      fill: #FFFFFF;\n",
              "    }\n",
              "  </style>\n",
              "\n",
              "      <script>\n",
              "        const buttonEl =\n",
              "          document.querySelector('#df-e33b1dd7-eddd-4212-9e97-1998f308100b button.colab-df-convert');\n",
              "        buttonEl.style.display =\n",
              "          google.colab.kernel.accessAllowed ? 'block' : 'none';\n",
              "\n",
              "        async function convertToInteractive(key) {\n",
              "          const element = document.querySelector('#df-e33b1dd7-eddd-4212-9e97-1998f308100b');\n",
              "          const dataTable =\n",
              "            await google.colab.kernel.invokeFunction('convertToInteractive',\n",
              "                                                     [key], {});\n",
              "          if (!dataTable) return;\n",
              "\n",
              "          const docLinkHtml = 'Like what you see? Visit the ' +\n",
              "            '<a target=\"_blank\" href=https://colab.research.google.com/notebooks/data_table.ipynb>data table notebook</a>'\n",
              "            + ' to learn more about interactive tables.';\n",
              "          element.innerHTML = '';\n",
              "          dataTable['output_type'] = 'display_data';\n",
              "          await google.colab.output.renderOutput(dataTable, element);\n",
              "          const docLink = document.createElement('div');\n",
              "          docLink.innerHTML = docLinkHtml;\n",
              "          element.appendChild(docLink);\n",
              "        }\n",
              "      </script>\n",
              "    </div>\n",
              "  </div>\n",
              "  "
            ]
          },
          "metadata": {},
          "execution_count": 14
        }
      ],
      "source": [
        "# cleaning the Neighbourhood column\n",
        "cols = ['Neighbourhood']\n",
        "no_showup_df[cols] = no_showup_df[cols].replace(('\\$', '\"', '-', ',',''), regex=True)\n",
        "no_showup_df.head()"
      ]
    },
    {
      "cell_type": "markdown",
      "metadata": {
        "id": "0fOnUWJQAxLx"
      },
      "source": [
        "#### 2. Renaming columns"
      ]
    },
    {
      "cell_type": "markdown",
      "metadata": {
        "id": "qVi3852LAxLx"
      },
      "source": [
        "The next step I took was renaming the No-show column to \"No_show\". I did so to avoid python string errors when working with columns. "
      ]
    },
    {
      "cell_type": "code",
      "execution_count": 15,
      "metadata": {
        "colab": {
          "base_uri": "https://localhost:8080/",
          "height": 357
        },
        "id": "jf4W4_dxAxLx",
        "outputId": "af0d9a87-4509-4a42-8ba6-2490f093686d"
      },
      "outputs": [
        {
          "output_type": "execute_result",
          "data": {
            "text/plain": [
              "      PatientId  AppointmentID Gender          ScheduledDay  \\\n",
              "0  2.987250e+13        5642903      F  2016-04-29T18:38:08Z   \n",
              "1  5.589978e+14        5642503      M  2016-04-29T16:08:27Z   \n",
              "2  4.262962e+12        5642549      F  2016-04-29T16:19:04Z   \n",
              "3  8.679512e+11        5642828      F  2016-04-29T17:29:31Z   \n",
              "4  8.841186e+12        5642494      F  2016-04-29T16:07:23Z   \n",
              "\n",
              "         AppointmentDay  Age      Neighbourhood  Scholarship  Hipertension  \\\n",
              "0  2016-04-29T00:00:00Z   62    JARDIM DA PENHA            0             1   \n",
              "1  2016-04-29T00:00:00Z   56    JARDIM DA PENHA            0             0   \n",
              "2  2016-04-29T00:00:00Z   62      MATA DA PRAIA            0             0   \n",
              "3  2016-04-29T00:00:00Z    8  PONTAL DE CAMBURI            0             0   \n",
              "4  2016-04-29T00:00:00Z   56    JARDIM DA PENHA            0             1   \n",
              "\n",
              "   Diabetes  Alcoholism  Handcap  SMS_received no_show  \n",
              "0         0           0        0             0      No  \n",
              "1         0           0        0             0      No  \n",
              "2         0           0        0             0      No  \n",
              "3         0           0        0             0      No  \n",
              "4         1           0        0             0      No  "
            ],
            "text/html": [
              "\n",
              "  <div id=\"df-801e6523-b5ab-4bbb-83ea-7193cc234c9a\">\n",
              "    <div class=\"colab-df-container\">\n",
              "      <div>\n",
              "<style scoped>\n",
              "    .dataframe tbody tr th:only-of-type {\n",
              "        vertical-align: middle;\n",
              "    }\n",
              "\n",
              "    .dataframe tbody tr th {\n",
              "        vertical-align: top;\n",
              "    }\n",
              "\n",
              "    .dataframe thead th {\n",
              "        text-align: right;\n",
              "    }\n",
              "</style>\n",
              "<table border=\"1\" class=\"dataframe\">\n",
              "  <thead>\n",
              "    <tr style=\"text-align: right;\">\n",
              "      <th></th>\n",
              "      <th>PatientId</th>\n",
              "      <th>AppointmentID</th>\n",
              "      <th>Gender</th>\n",
              "      <th>ScheduledDay</th>\n",
              "      <th>AppointmentDay</th>\n",
              "      <th>Age</th>\n",
              "      <th>Neighbourhood</th>\n",
              "      <th>Scholarship</th>\n",
              "      <th>Hipertension</th>\n",
              "      <th>Diabetes</th>\n",
              "      <th>Alcoholism</th>\n",
              "      <th>Handcap</th>\n",
              "      <th>SMS_received</th>\n",
              "      <th>no_show</th>\n",
              "    </tr>\n",
              "  </thead>\n",
              "  <tbody>\n",
              "    <tr>\n",
              "      <th>0</th>\n",
              "      <td>2.987250e+13</td>\n",
              "      <td>5642903</td>\n",
              "      <td>F</td>\n",
              "      <td>2016-04-29T18:38:08Z</td>\n",
              "      <td>2016-04-29T00:00:00Z</td>\n",
              "      <td>62</td>\n",
              "      <td>JARDIM DA PENHA</td>\n",
              "      <td>0</td>\n",
              "      <td>1</td>\n",
              "      <td>0</td>\n",
              "      <td>0</td>\n",
              "      <td>0</td>\n",
              "      <td>0</td>\n",
              "      <td>No</td>\n",
              "    </tr>\n",
              "    <tr>\n",
              "      <th>1</th>\n",
              "      <td>5.589978e+14</td>\n",
              "      <td>5642503</td>\n",
              "      <td>M</td>\n",
              "      <td>2016-04-29T16:08:27Z</td>\n",
              "      <td>2016-04-29T00:00:00Z</td>\n",
              "      <td>56</td>\n",
              "      <td>JARDIM DA PENHA</td>\n",
              "      <td>0</td>\n",
              "      <td>0</td>\n",
              "      <td>0</td>\n",
              "      <td>0</td>\n",
              "      <td>0</td>\n",
              "      <td>0</td>\n",
              "      <td>No</td>\n",
              "    </tr>\n",
              "    <tr>\n",
              "      <th>2</th>\n",
              "      <td>4.262962e+12</td>\n",
              "      <td>5642549</td>\n",
              "      <td>F</td>\n",
              "      <td>2016-04-29T16:19:04Z</td>\n",
              "      <td>2016-04-29T00:00:00Z</td>\n",
              "      <td>62</td>\n",
              "      <td>MATA DA PRAIA</td>\n",
              "      <td>0</td>\n",
              "      <td>0</td>\n",
              "      <td>0</td>\n",
              "      <td>0</td>\n",
              "      <td>0</td>\n",
              "      <td>0</td>\n",
              "      <td>No</td>\n",
              "    </tr>\n",
              "    <tr>\n",
              "      <th>3</th>\n",
              "      <td>8.679512e+11</td>\n",
              "      <td>5642828</td>\n",
              "      <td>F</td>\n",
              "      <td>2016-04-29T17:29:31Z</td>\n",
              "      <td>2016-04-29T00:00:00Z</td>\n",
              "      <td>8</td>\n",
              "      <td>PONTAL DE CAMBURI</td>\n",
              "      <td>0</td>\n",
              "      <td>0</td>\n",
              "      <td>0</td>\n",
              "      <td>0</td>\n",
              "      <td>0</td>\n",
              "      <td>0</td>\n",
              "      <td>No</td>\n",
              "    </tr>\n",
              "    <tr>\n",
              "      <th>4</th>\n",
              "      <td>8.841186e+12</td>\n",
              "      <td>5642494</td>\n",
              "      <td>F</td>\n",
              "      <td>2016-04-29T16:07:23Z</td>\n",
              "      <td>2016-04-29T00:00:00Z</td>\n",
              "      <td>56</td>\n",
              "      <td>JARDIM DA PENHA</td>\n",
              "      <td>0</td>\n",
              "      <td>1</td>\n",
              "      <td>1</td>\n",
              "      <td>0</td>\n",
              "      <td>0</td>\n",
              "      <td>0</td>\n",
              "      <td>No</td>\n",
              "    </tr>\n",
              "  </tbody>\n",
              "</table>\n",
              "</div>\n",
              "      <button class=\"colab-df-convert\" onclick=\"convertToInteractive('df-801e6523-b5ab-4bbb-83ea-7193cc234c9a')\"\n",
              "              title=\"Convert this dataframe to an interactive table.\"\n",
              "              style=\"display:none;\">\n",
              "        \n",
              "  <svg xmlns=\"http://www.w3.org/2000/svg\" height=\"24px\"viewBox=\"0 0 24 24\"\n",
              "       width=\"24px\">\n",
              "    <path d=\"M0 0h24v24H0V0z\" fill=\"none\"/>\n",
              "    <path d=\"M18.56 5.44l.94 2.06.94-2.06 2.06-.94-2.06-.94-.94-2.06-.94 2.06-2.06.94zm-11 1L8.5 8.5l.94-2.06 2.06-.94-2.06-.94L8.5 2.5l-.94 2.06-2.06.94zm10 10l.94 2.06.94-2.06 2.06-.94-2.06-.94-.94-2.06-.94 2.06-2.06.94z\"/><path d=\"M17.41 7.96l-1.37-1.37c-.4-.4-.92-.59-1.43-.59-.52 0-1.04.2-1.43.59L10.3 9.45l-7.72 7.72c-.78.78-.78 2.05 0 2.83L4 21.41c.39.39.9.59 1.41.59.51 0 1.02-.2 1.41-.59l7.78-7.78 2.81-2.81c.8-.78.8-2.07 0-2.86zM5.41 20L4 18.59l7.72-7.72 1.47 1.35L5.41 20z\"/>\n",
              "  </svg>\n",
              "      </button>\n",
              "      \n",
              "  <style>\n",
              "    .colab-df-container {\n",
              "      display:flex;\n",
              "      flex-wrap:wrap;\n",
              "      gap: 12px;\n",
              "    }\n",
              "\n",
              "    .colab-df-convert {\n",
              "      background-color: #E8F0FE;\n",
              "      border: none;\n",
              "      border-radius: 50%;\n",
              "      cursor: pointer;\n",
              "      display: none;\n",
              "      fill: #1967D2;\n",
              "      height: 32px;\n",
              "      padding: 0 0 0 0;\n",
              "      width: 32px;\n",
              "    }\n",
              "\n",
              "    .colab-df-convert:hover {\n",
              "      background-color: #E2EBFA;\n",
              "      box-shadow: 0px 1px 2px rgba(60, 64, 67, 0.3), 0px 1px 3px 1px rgba(60, 64, 67, 0.15);\n",
              "      fill: #174EA6;\n",
              "    }\n",
              "\n",
              "    [theme=dark] .colab-df-convert {\n",
              "      background-color: #3B4455;\n",
              "      fill: #D2E3FC;\n",
              "    }\n",
              "\n",
              "    [theme=dark] .colab-df-convert:hover {\n",
              "      background-color: #434B5C;\n",
              "      box-shadow: 0px 1px 3px 1px rgba(0, 0, 0, 0.15);\n",
              "      filter: drop-shadow(0px 1px 2px rgba(0, 0, 0, 0.3));\n",
              "      fill: #FFFFFF;\n",
              "    }\n",
              "  </style>\n",
              "\n",
              "      <script>\n",
              "        const buttonEl =\n",
              "          document.querySelector('#df-801e6523-b5ab-4bbb-83ea-7193cc234c9a button.colab-df-convert');\n",
              "        buttonEl.style.display =\n",
              "          google.colab.kernel.accessAllowed ? 'block' : 'none';\n",
              "\n",
              "        async function convertToInteractive(key) {\n",
              "          const element = document.querySelector('#df-801e6523-b5ab-4bbb-83ea-7193cc234c9a');\n",
              "          const dataTable =\n",
              "            await google.colab.kernel.invokeFunction('convertToInteractive',\n",
              "                                                     [key], {});\n",
              "          if (!dataTable) return;\n",
              "\n",
              "          const docLinkHtml = 'Like what you see? Visit the ' +\n",
              "            '<a target=\"_blank\" href=https://colab.research.google.com/notebooks/data_table.ipynb>data table notebook</a>'\n",
              "            + ' to learn more about interactive tables.';\n",
              "          element.innerHTML = '';\n",
              "          dataTable['output_type'] = 'display_data';\n",
              "          await google.colab.output.renderOutput(dataTable, element);\n",
              "          const docLink = document.createElement('div');\n",
              "          docLink.innerHTML = docLinkHtml;\n",
              "          element.appendChild(docLink);\n",
              "        }\n",
              "      </script>\n",
              "    </div>\n",
              "  </div>\n",
              "  "
            ]
          },
          "metadata": {},
          "execution_count": 15
        }
      ],
      "source": [
        "# renaming the column No-show to No_show\n",
        "no_showup_df.rename(columns={'No-show': 'no_show'}, inplace=True)\n",
        "no_showup_df.head()"
      ]
    },
    {
      "cell_type": "markdown",
      "metadata": {
        "id": "JNtHISzKAxLx"
      },
      "source": [
        "#### 3. Changing all column names to lowercase"
      ]
    },
    {
      "cell_type": "markdown",
      "metadata": {
        "id": "ptjWOfsZAxLy"
      },
      "source": [
        "Python being a case-sensitive language, I saw it wise to change all the column names to lowercase. This was a move to equally avoid further errors and save on computation time.   "
      ]
    },
    {
      "cell_type": "code",
      "execution_count": 16,
      "metadata": {
        "colab": {
          "base_uri": "https://localhost:8080/"
        },
        "id": "4mN3MJYMAxLy",
        "outputId": "b4536387-c60a-4b7d-ca81-79f0bfb4457f"
      },
      "outputs": [
        {
          "output_type": "execute_result",
          "data": {
            "text/plain": [
              "Index(['PatientId', 'AppointmentID', 'Gender', 'ScheduledDay',\n",
              "       'AppointmentDay', 'Age', 'Neighbourhood', 'Scholarship', 'Hipertension',\n",
              "       'Diabetes', 'Alcoholism', 'Handcap', 'SMS_received', 'no_show'],\n",
              "      dtype='object')"
            ]
          },
          "metadata": {},
          "execution_count": 16
        }
      ],
      "source": [
        "# displaying columns\n",
        "no_showup_df.columns"
      ]
    },
    {
      "cell_type": "code",
      "execution_count": 17,
      "metadata": {
        "id": "k9o_KqJ2AxLy"
      },
      "outputs": [],
      "source": [
        "# changing column names to lowercase\n",
        "no_showup_df.columns = map(str.lower, no_showup_df.columns)"
      ]
    },
    {
      "cell_type": "code",
      "execution_count": 18,
      "metadata": {
        "colab": {
          "base_uri": "https://localhost:8080/"
        },
        "id": "Xq3pcAXKAxLz",
        "outputId": "1c0d51d5-8ac9-462d-f527-6dce82ad7d8a"
      },
      "outputs": [
        {
          "output_type": "execute_result",
          "data": {
            "text/plain": [
              "Index(['patientid', 'appointmentid', 'gender', 'scheduledday',\n",
              "       'appointmentday', 'age', 'neighbourhood', 'scholarship', 'hipertension',\n",
              "       'diabetes', 'alcoholism', 'handcap', 'sms_received', 'no_show'],\n",
              "      dtype='object')"
            ]
          },
          "metadata": {},
          "execution_count": 18
        }
      ],
      "source": [
        "# displaying columns after changing case\n",
        "no_showup_df.columns"
      ]
    },
    {
      "cell_type": "code",
      "execution_count": 19,
      "metadata": {
        "colab": {
          "base_uri": "https://localhost:8080/",
          "height": 357
        },
        "id": "CfUVlCt0AxLz",
        "outputId": "835d2571-c605-499f-b56f-d60eb8f70bb9"
      },
      "outputs": [
        {
          "output_type": "execute_result",
          "data": {
            "text/plain": [
              "      patientid  appointmentid gender          scheduledday  \\\n",
              "0  2.987250e+13        5642903      F  2016-04-29T18:38:08Z   \n",
              "1  5.589978e+14        5642503      M  2016-04-29T16:08:27Z   \n",
              "2  4.262962e+12        5642549      F  2016-04-29T16:19:04Z   \n",
              "3  8.679512e+11        5642828      F  2016-04-29T17:29:31Z   \n",
              "4  8.841186e+12        5642494      F  2016-04-29T16:07:23Z   \n",
              "\n",
              "         appointmentday  age      neighbourhood  scholarship  hipertension  \\\n",
              "0  2016-04-29T00:00:00Z   62    JARDIM DA PENHA            0             1   \n",
              "1  2016-04-29T00:00:00Z   56    JARDIM DA PENHA            0             0   \n",
              "2  2016-04-29T00:00:00Z   62      MATA DA PRAIA            0             0   \n",
              "3  2016-04-29T00:00:00Z    8  PONTAL DE CAMBURI            0             0   \n",
              "4  2016-04-29T00:00:00Z   56    JARDIM DA PENHA            0             1   \n",
              "\n",
              "   diabetes  alcoholism  handcap  sms_received no_show  \n",
              "0         0           0        0             0      No  \n",
              "1         0           0        0             0      No  \n",
              "2         0           0        0             0      No  \n",
              "3         0           0        0             0      No  \n",
              "4         1           0        0             0      No  "
            ],
            "text/html": [
              "\n",
              "  <div id=\"df-99c7cfc5-b7cd-424f-8f9c-13f4b2553eaf\">\n",
              "    <div class=\"colab-df-container\">\n",
              "      <div>\n",
              "<style scoped>\n",
              "    .dataframe tbody tr th:only-of-type {\n",
              "        vertical-align: middle;\n",
              "    }\n",
              "\n",
              "    .dataframe tbody tr th {\n",
              "        vertical-align: top;\n",
              "    }\n",
              "\n",
              "    .dataframe thead th {\n",
              "        text-align: right;\n",
              "    }\n",
              "</style>\n",
              "<table border=\"1\" class=\"dataframe\">\n",
              "  <thead>\n",
              "    <tr style=\"text-align: right;\">\n",
              "      <th></th>\n",
              "      <th>patientid</th>\n",
              "      <th>appointmentid</th>\n",
              "      <th>gender</th>\n",
              "      <th>scheduledday</th>\n",
              "      <th>appointmentday</th>\n",
              "      <th>age</th>\n",
              "      <th>neighbourhood</th>\n",
              "      <th>scholarship</th>\n",
              "      <th>hipertension</th>\n",
              "      <th>diabetes</th>\n",
              "      <th>alcoholism</th>\n",
              "      <th>handcap</th>\n",
              "      <th>sms_received</th>\n",
              "      <th>no_show</th>\n",
              "    </tr>\n",
              "  </thead>\n",
              "  <tbody>\n",
              "    <tr>\n",
              "      <th>0</th>\n",
              "      <td>2.987250e+13</td>\n",
              "      <td>5642903</td>\n",
              "      <td>F</td>\n",
              "      <td>2016-04-29T18:38:08Z</td>\n",
              "      <td>2016-04-29T00:00:00Z</td>\n",
              "      <td>62</td>\n",
              "      <td>JARDIM DA PENHA</td>\n",
              "      <td>0</td>\n",
              "      <td>1</td>\n",
              "      <td>0</td>\n",
              "      <td>0</td>\n",
              "      <td>0</td>\n",
              "      <td>0</td>\n",
              "      <td>No</td>\n",
              "    </tr>\n",
              "    <tr>\n",
              "      <th>1</th>\n",
              "      <td>5.589978e+14</td>\n",
              "      <td>5642503</td>\n",
              "      <td>M</td>\n",
              "      <td>2016-04-29T16:08:27Z</td>\n",
              "      <td>2016-04-29T00:00:00Z</td>\n",
              "      <td>56</td>\n",
              "      <td>JARDIM DA PENHA</td>\n",
              "      <td>0</td>\n",
              "      <td>0</td>\n",
              "      <td>0</td>\n",
              "      <td>0</td>\n",
              "      <td>0</td>\n",
              "      <td>0</td>\n",
              "      <td>No</td>\n",
              "    </tr>\n",
              "    <tr>\n",
              "      <th>2</th>\n",
              "      <td>4.262962e+12</td>\n",
              "      <td>5642549</td>\n",
              "      <td>F</td>\n",
              "      <td>2016-04-29T16:19:04Z</td>\n",
              "      <td>2016-04-29T00:00:00Z</td>\n",
              "      <td>62</td>\n",
              "      <td>MATA DA PRAIA</td>\n",
              "      <td>0</td>\n",
              "      <td>0</td>\n",
              "      <td>0</td>\n",
              "      <td>0</td>\n",
              "      <td>0</td>\n",
              "      <td>0</td>\n",
              "      <td>No</td>\n",
              "    </tr>\n",
              "    <tr>\n",
              "      <th>3</th>\n",
              "      <td>8.679512e+11</td>\n",
              "      <td>5642828</td>\n",
              "      <td>F</td>\n",
              "      <td>2016-04-29T17:29:31Z</td>\n",
              "      <td>2016-04-29T00:00:00Z</td>\n",
              "      <td>8</td>\n",
              "      <td>PONTAL DE CAMBURI</td>\n",
              "      <td>0</td>\n",
              "      <td>0</td>\n",
              "      <td>0</td>\n",
              "      <td>0</td>\n",
              "      <td>0</td>\n",
              "      <td>0</td>\n",
              "      <td>No</td>\n",
              "    </tr>\n",
              "    <tr>\n",
              "      <th>4</th>\n",
              "      <td>8.841186e+12</td>\n",
              "      <td>5642494</td>\n",
              "      <td>F</td>\n",
              "      <td>2016-04-29T16:07:23Z</td>\n",
              "      <td>2016-04-29T00:00:00Z</td>\n",
              "      <td>56</td>\n",
              "      <td>JARDIM DA PENHA</td>\n",
              "      <td>0</td>\n",
              "      <td>1</td>\n",
              "      <td>1</td>\n",
              "      <td>0</td>\n",
              "      <td>0</td>\n",
              "      <td>0</td>\n",
              "      <td>No</td>\n",
              "    </tr>\n",
              "  </tbody>\n",
              "</table>\n",
              "</div>\n",
              "      <button class=\"colab-df-convert\" onclick=\"convertToInteractive('df-99c7cfc5-b7cd-424f-8f9c-13f4b2553eaf')\"\n",
              "              title=\"Convert this dataframe to an interactive table.\"\n",
              "              style=\"display:none;\">\n",
              "        \n",
              "  <svg xmlns=\"http://www.w3.org/2000/svg\" height=\"24px\"viewBox=\"0 0 24 24\"\n",
              "       width=\"24px\">\n",
              "    <path d=\"M0 0h24v24H0V0z\" fill=\"none\"/>\n",
              "    <path d=\"M18.56 5.44l.94 2.06.94-2.06 2.06-.94-2.06-.94-.94-2.06-.94 2.06-2.06.94zm-11 1L8.5 8.5l.94-2.06 2.06-.94-2.06-.94L8.5 2.5l-.94 2.06-2.06.94zm10 10l.94 2.06.94-2.06 2.06-.94-2.06-.94-.94-2.06-.94 2.06-2.06.94z\"/><path d=\"M17.41 7.96l-1.37-1.37c-.4-.4-.92-.59-1.43-.59-.52 0-1.04.2-1.43.59L10.3 9.45l-7.72 7.72c-.78.78-.78 2.05 0 2.83L4 21.41c.39.39.9.59 1.41.59.51 0 1.02-.2 1.41-.59l7.78-7.78 2.81-2.81c.8-.78.8-2.07 0-2.86zM5.41 20L4 18.59l7.72-7.72 1.47 1.35L5.41 20z\"/>\n",
              "  </svg>\n",
              "      </button>\n",
              "      \n",
              "  <style>\n",
              "    .colab-df-container {\n",
              "      display:flex;\n",
              "      flex-wrap:wrap;\n",
              "      gap: 12px;\n",
              "    }\n",
              "\n",
              "    .colab-df-convert {\n",
              "      background-color: #E8F0FE;\n",
              "      border: none;\n",
              "      border-radius: 50%;\n",
              "      cursor: pointer;\n",
              "      display: none;\n",
              "      fill: #1967D2;\n",
              "      height: 32px;\n",
              "      padding: 0 0 0 0;\n",
              "      width: 32px;\n",
              "    }\n",
              "\n",
              "    .colab-df-convert:hover {\n",
              "      background-color: #E2EBFA;\n",
              "      box-shadow: 0px 1px 2px rgba(60, 64, 67, 0.3), 0px 1px 3px 1px rgba(60, 64, 67, 0.15);\n",
              "      fill: #174EA6;\n",
              "    }\n",
              "\n",
              "    [theme=dark] .colab-df-convert {\n",
              "      background-color: #3B4455;\n",
              "      fill: #D2E3FC;\n",
              "    }\n",
              "\n",
              "    [theme=dark] .colab-df-convert:hover {\n",
              "      background-color: #434B5C;\n",
              "      box-shadow: 0px 1px 3px 1px rgba(0, 0, 0, 0.15);\n",
              "      filter: drop-shadow(0px 1px 2px rgba(0, 0, 0, 0.3));\n",
              "      fill: #FFFFFF;\n",
              "    }\n",
              "  </style>\n",
              "\n",
              "      <script>\n",
              "        const buttonEl =\n",
              "          document.querySelector('#df-99c7cfc5-b7cd-424f-8f9c-13f4b2553eaf button.colab-df-convert');\n",
              "        buttonEl.style.display =\n",
              "          google.colab.kernel.accessAllowed ? 'block' : 'none';\n",
              "\n",
              "        async function convertToInteractive(key) {\n",
              "          const element = document.querySelector('#df-99c7cfc5-b7cd-424f-8f9c-13f4b2553eaf');\n",
              "          const dataTable =\n",
              "            await google.colab.kernel.invokeFunction('convertToInteractive',\n",
              "                                                     [key], {});\n",
              "          if (!dataTable) return;\n",
              "\n",
              "          const docLinkHtml = 'Like what you see? Visit the ' +\n",
              "            '<a target=\"_blank\" href=https://colab.research.google.com/notebooks/data_table.ipynb>data table notebook</a>'\n",
              "            + ' to learn more about interactive tables.';\n",
              "          element.innerHTML = '';\n",
              "          dataTable['output_type'] = 'display_data';\n",
              "          await google.colab.output.renderOutput(dataTable, element);\n",
              "          const docLink = document.createElement('div');\n",
              "          docLink.innerHTML = docLinkHtml;\n",
              "          element.appendChild(docLink);\n",
              "        }\n",
              "      </script>\n",
              "    </div>\n",
              "  </div>\n",
              "  "
            ]
          },
          "metadata": {},
          "execution_count": 19
        }
      ],
      "source": [
        "#check the data frame head for changes\n",
        "no_showup_df.head()"
      ]
    },
    {
      "cell_type": "markdown",
      "metadata": {
        "id": "7-McfNP0AxL0"
      },
      "source": [
        "#### 4. Saving the prepared data frame as a new csv data set"
      ]
    },
    {
      "cell_type": "code",
      "execution_count": 20,
      "metadata": {
        "id": "1yfG4WbbAxL0"
      },
      "outputs": [],
      "source": [
        "# saving the updated dataframe as a new csv data set\n",
        "no_showup_df.to_csv('/content/drive/My Drive/updated_noshowappointments-kagglev2-may-2016.csv') #data frame saved to csv format"
      ]
    },
    {
      "cell_type": "markdown",
      "metadata": {
        "id": "ungjIA1NAxL0"
      },
      "source": [
        "<a id='eda'></a>\n",
        "## Section 3: Exploratory Data Analysis"
      ]
    },
    {
      "cell_type": "code",
      "execution_count": 21,
      "metadata": {
        "scrolled": false,
        "colab": {
          "base_uri": "https://localhost:8080/",
          "height": 374
        },
        "id": "ANt-OvAXAxL1",
        "outputId": "c5b10bc0-64c0-45cb-cd97-62a68e304b71"
      },
      "outputs": [
        {
          "output_type": "execute_result",
          "data": {
            "text/plain": [
              "   Unnamed: 0     patientid  appointmentid gender          scheduledday  \\\n",
              "0           0  2.987250e+13        5642903      F  2016-04-29T18:38:08Z   \n",
              "1           1  5.589978e+14        5642503      M  2016-04-29T16:08:27Z   \n",
              "2           2  4.262962e+12        5642549      F  2016-04-29T16:19:04Z   \n",
              "3           3  8.679512e+11        5642828      F  2016-04-29T17:29:31Z   \n",
              "4           4  8.841186e+12        5642494      F  2016-04-29T16:07:23Z   \n",
              "\n",
              "         appointmentday  age      neighbourhood  scholarship  hipertension  \\\n",
              "0  2016-04-29T00:00:00Z   62    JARDIM DA PENHA            0             1   \n",
              "1  2016-04-29T00:00:00Z   56    JARDIM DA PENHA            0             0   \n",
              "2  2016-04-29T00:00:00Z   62      MATA DA PRAIA            0             0   \n",
              "3  2016-04-29T00:00:00Z    8  PONTAL DE CAMBURI            0             0   \n",
              "4  2016-04-29T00:00:00Z   56    JARDIM DA PENHA            0             1   \n",
              "\n",
              "   diabetes  alcoholism  handcap  sms_received no_show  \n",
              "0         0           0        0             0      No  \n",
              "1         0           0        0             0      No  \n",
              "2         0           0        0             0      No  \n",
              "3         0           0        0             0      No  \n",
              "4         1           0        0             0      No  "
            ],
            "text/html": [
              "\n",
              "  <div id=\"df-a18ae13a-497e-4e57-b44c-a8f5eef6a3a3\">\n",
              "    <div class=\"colab-df-container\">\n",
              "      <div>\n",
              "<style scoped>\n",
              "    .dataframe tbody tr th:only-of-type {\n",
              "        vertical-align: middle;\n",
              "    }\n",
              "\n",
              "    .dataframe tbody tr th {\n",
              "        vertical-align: top;\n",
              "    }\n",
              "\n",
              "    .dataframe thead th {\n",
              "        text-align: right;\n",
              "    }\n",
              "</style>\n",
              "<table border=\"1\" class=\"dataframe\">\n",
              "  <thead>\n",
              "    <tr style=\"text-align: right;\">\n",
              "      <th></th>\n",
              "      <th>Unnamed: 0</th>\n",
              "      <th>patientid</th>\n",
              "      <th>appointmentid</th>\n",
              "      <th>gender</th>\n",
              "      <th>scheduledday</th>\n",
              "      <th>appointmentday</th>\n",
              "      <th>age</th>\n",
              "      <th>neighbourhood</th>\n",
              "      <th>scholarship</th>\n",
              "      <th>hipertension</th>\n",
              "      <th>diabetes</th>\n",
              "      <th>alcoholism</th>\n",
              "      <th>handcap</th>\n",
              "      <th>sms_received</th>\n",
              "      <th>no_show</th>\n",
              "    </tr>\n",
              "  </thead>\n",
              "  <tbody>\n",
              "    <tr>\n",
              "      <th>0</th>\n",
              "      <td>0</td>\n",
              "      <td>2.987250e+13</td>\n",
              "      <td>5642903</td>\n",
              "      <td>F</td>\n",
              "      <td>2016-04-29T18:38:08Z</td>\n",
              "      <td>2016-04-29T00:00:00Z</td>\n",
              "      <td>62</td>\n",
              "      <td>JARDIM DA PENHA</td>\n",
              "      <td>0</td>\n",
              "      <td>1</td>\n",
              "      <td>0</td>\n",
              "      <td>0</td>\n",
              "      <td>0</td>\n",
              "      <td>0</td>\n",
              "      <td>No</td>\n",
              "    </tr>\n",
              "    <tr>\n",
              "      <th>1</th>\n",
              "      <td>1</td>\n",
              "      <td>5.589978e+14</td>\n",
              "      <td>5642503</td>\n",
              "      <td>M</td>\n",
              "      <td>2016-04-29T16:08:27Z</td>\n",
              "      <td>2016-04-29T00:00:00Z</td>\n",
              "      <td>56</td>\n",
              "      <td>JARDIM DA PENHA</td>\n",
              "      <td>0</td>\n",
              "      <td>0</td>\n",
              "      <td>0</td>\n",
              "      <td>0</td>\n",
              "      <td>0</td>\n",
              "      <td>0</td>\n",
              "      <td>No</td>\n",
              "    </tr>\n",
              "    <tr>\n",
              "      <th>2</th>\n",
              "      <td>2</td>\n",
              "      <td>4.262962e+12</td>\n",
              "      <td>5642549</td>\n",
              "      <td>F</td>\n",
              "      <td>2016-04-29T16:19:04Z</td>\n",
              "      <td>2016-04-29T00:00:00Z</td>\n",
              "      <td>62</td>\n",
              "      <td>MATA DA PRAIA</td>\n",
              "      <td>0</td>\n",
              "      <td>0</td>\n",
              "      <td>0</td>\n",
              "      <td>0</td>\n",
              "      <td>0</td>\n",
              "      <td>0</td>\n",
              "      <td>No</td>\n",
              "    </tr>\n",
              "    <tr>\n",
              "      <th>3</th>\n",
              "      <td>3</td>\n",
              "      <td>8.679512e+11</td>\n",
              "      <td>5642828</td>\n",
              "      <td>F</td>\n",
              "      <td>2016-04-29T17:29:31Z</td>\n",
              "      <td>2016-04-29T00:00:00Z</td>\n",
              "      <td>8</td>\n",
              "      <td>PONTAL DE CAMBURI</td>\n",
              "      <td>0</td>\n",
              "      <td>0</td>\n",
              "      <td>0</td>\n",
              "      <td>0</td>\n",
              "      <td>0</td>\n",
              "      <td>0</td>\n",
              "      <td>No</td>\n",
              "    </tr>\n",
              "    <tr>\n",
              "      <th>4</th>\n",
              "      <td>4</td>\n",
              "      <td>8.841186e+12</td>\n",
              "      <td>5642494</td>\n",
              "      <td>F</td>\n",
              "      <td>2016-04-29T16:07:23Z</td>\n",
              "      <td>2016-04-29T00:00:00Z</td>\n",
              "      <td>56</td>\n",
              "      <td>JARDIM DA PENHA</td>\n",
              "      <td>0</td>\n",
              "      <td>1</td>\n",
              "      <td>1</td>\n",
              "      <td>0</td>\n",
              "      <td>0</td>\n",
              "      <td>0</td>\n",
              "      <td>No</td>\n",
              "    </tr>\n",
              "  </tbody>\n",
              "</table>\n",
              "</div>\n",
              "      <button class=\"colab-df-convert\" onclick=\"convertToInteractive('df-a18ae13a-497e-4e57-b44c-a8f5eef6a3a3')\"\n",
              "              title=\"Convert this dataframe to an interactive table.\"\n",
              "              style=\"display:none;\">\n",
              "        \n",
              "  <svg xmlns=\"http://www.w3.org/2000/svg\" height=\"24px\"viewBox=\"0 0 24 24\"\n",
              "       width=\"24px\">\n",
              "    <path d=\"M0 0h24v24H0V0z\" fill=\"none\"/>\n",
              "    <path d=\"M18.56 5.44l.94 2.06.94-2.06 2.06-.94-2.06-.94-.94-2.06-.94 2.06-2.06.94zm-11 1L8.5 8.5l.94-2.06 2.06-.94-2.06-.94L8.5 2.5l-.94 2.06-2.06.94zm10 10l.94 2.06.94-2.06 2.06-.94-2.06-.94-.94-2.06-.94 2.06-2.06.94z\"/><path d=\"M17.41 7.96l-1.37-1.37c-.4-.4-.92-.59-1.43-.59-.52 0-1.04.2-1.43.59L10.3 9.45l-7.72 7.72c-.78.78-.78 2.05 0 2.83L4 21.41c.39.39.9.59 1.41.59.51 0 1.02-.2 1.41-.59l7.78-7.78 2.81-2.81c.8-.78.8-2.07 0-2.86zM5.41 20L4 18.59l7.72-7.72 1.47 1.35L5.41 20z\"/>\n",
              "  </svg>\n",
              "      </button>\n",
              "      \n",
              "  <style>\n",
              "    .colab-df-container {\n",
              "      display:flex;\n",
              "      flex-wrap:wrap;\n",
              "      gap: 12px;\n",
              "    }\n",
              "\n",
              "    .colab-df-convert {\n",
              "      background-color: #E8F0FE;\n",
              "      border: none;\n",
              "      border-radius: 50%;\n",
              "      cursor: pointer;\n",
              "      display: none;\n",
              "      fill: #1967D2;\n",
              "      height: 32px;\n",
              "      padding: 0 0 0 0;\n",
              "      width: 32px;\n",
              "    }\n",
              "\n",
              "    .colab-df-convert:hover {\n",
              "      background-color: #E2EBFA;\n",
              "      box-shadow: 0px 1px 2px rgba(60, 64, 67, 0.3), 0px 1px 3px 1px rgba(60, 64, 67, 0.15);\n",
              "      fill: #174EA6;\n",
              "    }\n",
              "\n",
              "    [theme=dark] .colab-df-convert {\n",
              "      background-color: #3B4455;\n",
              "      fill: #D2E3FC;\n",
              "    }\n",
              "\n",
              "    [theme=dark] .colab-df-convert:hover {\n",
              "      background-color: #434B5C;\n",
              "      box-shadow: 0px 1px 3px 1px rgba(0, 0, 0, 0.15);\n",
              "      filter: drop-shadow(0px 1px 2px rgba(0, 0, 0, 0.3));\n",
              "      fill: #FFFFFF;\n",
              "    }\n",
              "  </style>\n",
              "\n",
              "      <script>\n",
              "        const buttonEl =\n",
              "          document.querySelector('#df-a18ae13a-497e-4e57-b44c-a8f5eef6a3a3 button.colab-df-convert');\n",
              "        buttonEl.style.display =\n",
              "          google.colab.kernel.accessAllowed ? 'block' : 'none';\n",
              "\n",
              "        async function convertToInteractive(key) {\n",
              "          const element = document.querySelector('#df-a18ae13a-497e-4e57-b44c-a8f5eef6a3a3');\n",
              "          const dataTable =\n",
              "            await google.colab.kernel.invokeFunction('convertToInteractive',\n",
              "                                                     [key], {});\n",
              "          if (!dataTable) return;\n",
              "\n",
              "          const docLinkHtml = 'Like what you see? Visit the ' +\n",
              "            '<a target=\"_blank\" href=https://colab.research.google.com/notebooks/data_table.ipynb>data table notebook</a>'\n",
              "            + ' to learn more about interactive tables.';\n",
              "          element.innerHTML = '';\n",
              "          dataTable['output_type'] = 'display_data';\n",
              "          await google.colab.output.renderOutput(dataTable, element);\n",
              "          const docLink = document.createElement('div');\n",
              "          docLink.innerHTML = docLinkHtml;\n",
              "          element.appendChild(docLink);\n",
              "        }\n",
              "      </script>\n",
              "    </div>\n",
              "  </div>\n",
              "  "
            ]
          },
          "metadata": {},
          "execution_count": 21
        }
      ],
      "source": [
        "#loading the dataset to be used\n",
        "no_showup_df = pd.read_csv('/content/drive/My Drive/updated_noshowappointments-kagglev2-may-2016.csv')\n",
        "no_showup_df.head()"
      ]
    },
    {
      "cell_type": "code",
      "execution_count": 22,
      "metadata": {
        "colab": {
          "base_uri": "https://localhost:8080/"
        },
        "id": "QBOPr91eAxL1",
        "outputId": "7cc79c20-bfd5-4b96-d2be-cc44325652e2"
      },
      "outputs": [
        {
          "output_type": "execute_result",
          "data": {
            "text/plain": [
              "Index(['Unnamed: 0', 'patientid', 'appointmentid', 'gender', 'scheduledday',\n",
              "       'appointmentday', 'age', 'neighbourhood', 'scholarship', 'hipertension',\n",
              "       'diabetes', 'alcoholism', 'handcap', 'sms_received', 'no_show'],\n",
              "      dtype='object')"
            ]
          },
          "metadata": {},
          "execution_count": 22
        }
      ],
      "source": [
        "# displaying the data frame columns \n",
        "\n",
        "no_showup_df.columns"
      ]
    },
    {
      "cell_type": "markdown",
      "metadata": {
        "id": "IVWod2-EAxL1"
      },
      "source": [
        "I noticed the a new column 'Unnamed: 0' with entries similar to the index column. I proceeded to deleting it since we already had an index column which we intended to keep."
      ]
    },
    {
      "cell_type": "code",
      "execution_count": 23,
      "metadata": {
        "id": "SIbERNjLAxL1"
      },
      "outputs": [],
      "source": [
        "# dropping the Unnamed column\n",
        "no_showup_df.drop(['Unnamed: 0'], axis=1, inplace=True) #asigning the axis to 1 to indicate action on column"
      ]
    },
    {
      "cell_type": "code",
      "execution_count": 24,
      "metadata": {
        "colab": {
          "base_uri": "https://localhost:8080/",
          "height": 357
        },
        "id": "5WuKDur2AxL2",
        "outputId": "11423aaa-a34c-4c4d-eb19-efa66a65cc7b"
      },
      "outputs": [
        {
          "output_type": "execute_result",
          "data": {
            "text/plain": [
              "      patientid  appointmentid gender          scheduledday  \\\n",
              "0  2.987250e+13        5642903      F  2016-04-29T18:38:08Z   \n",
              "1  5.589978e+14        5642503      M  2016-04-29T16:08:27Z   \n",
              "2  4.262962e+12        5642549      F  2016-04-29T16:19:04Z   \n",
              "3  8.679512e+11        5642828      F  2016-04-29T17:29:31Z   \n",
              "4  8.841186e+12        5642494      F  2016-04-29T16:07:23Z   \n",
              "\n",
              "         appointmentday  age      neighbourhood  scholarship  hipertension  \\\n",
              "0  2016-04-29T00:00:00Z   62    JARDIM DA PENHA            0             1   \n",
              "1  2016-04-29T00:00:00Z   56    JARDIM DA PENHA            0             0   \n",
              "2  2016-04-29T00:00:00Z   62      MATA DA PRAIA            0             0   \n",
              "3  2016-04-29T00:00:00Z    8  PONTAL DE CAMBURI            0             0   \n",
              "4  2016-04-29T00:00:00Z   56    JARDIM DA PENHA            0             1   \n",
              "\n",
              "   diabetes  alcoholism  handcap  sms_received no_show  \n",
              "0         0           0        0             0      No  \n",
              "1         0           0        0             0      No  \n",
              "2         0           0        0             0      No  \n",
              "3         0           0        0             0      No  \n",
              "4         1           0        0             0      No  "
            ],
            "text/html": [
              "\n",
              "  <div id=\"df-026f0da0-ffc9-4a6d-a9bb-22961b1166b4\">\n",
              "    <div class=\"colab-df-container\">\n",
              "      <div>\n",
              "<style scoped>\n",
              "    .dataframe tbody tr th:only-of-type {\n",
              "        vertical-align: middle;\n",
              "    }\n",
              "\n",
              "    .dataframe tbody tr th {\n",
              "        vertical-align: top;\n",
              "    }\n",
              "\n",
              "    .dataframe thead th {\n",
              "        text-align: right;\n",
              "    }\n",
              "</style>\n",
              "<table border=\"1\" class=\"dataframe\">\n",
              "  <thead>\n",
              "    <tr style=\"text-align: right;\">\n",
              "      <th></th>\n",
              "      <th>patientid</th>\n",
              "      <th>appointmentid</th>\n",
              "      <th>gender</th>\n",
              "      <th>scheduledday</th>\n",
              "      <th>appointmentday</th>\n",
              "      <th>age</th>\n",
              "      <th>neighbourhood</th>\n",
              "      <th>scholarship</th>\n",
              "      <th>hipertension</th>\n",
              "      <th>diabetes</th>\n",
              "      <th>alcoholism</th>\n",
              "      <th>handcap</th>\n",
              "      <th>sms_received</th>\n",
              "      <th>no_show</th>\n",
              "    </tr>\n",
              "  </thead>\n",
              "  <tbody>\n",
              "    <tr>\n",
              "      <th>0</th>\n",
              "      <td>2.987250e+13</td>\n",
              "      <td>5642903</td>\n",
              "      <td>F</td>\n",
              "      <td>2016-04-29T18:38:08Z</td>\n",
              "      <td>2016-04-29T00:00:00Z</td>\n",
              "      <td>62</td>\n",
              "      <td>JARDIM DA PENHA</td>\n",
              "      <td>0</td>\n",
              "      <td>1</td>\n",
              "      <td>0</td>\n",
              "      <td>0</td>\n",
              "      <td>0</td>\n",
              "      <td>0</td>\n",
              "      <td>No</td>\n",
              "    </tr>\n",
              "    <tr>\n",
              "      <th>1</th>\n",
              "      <td>5.589978e+14</td>\n",
              "      <td>5642503</td>\n",
              "      <td>M</td>\n",
              "      <td>2016-04-29T16:08:27Z</td>\n",
              "      <td>2016-04-29T00:00:00Z</td>\n",
              "      <td>56</td>\n",
              "      <td>JARDIM DA PENHA</td>\n",
              "      <td>0</td>\n",
              "      <td>0</td>\n",
              "      <td>0</td>\n",
              "      <td>0</td>\n",
              "      <td>0</td>\n",
              "      <td>0</td>\n",
              "      <td>No</td>\n",
              "    </tr>\n",
              "    <tr>\n",
              "      <th>2</th>\n",
              "      <td>4.262962e+12</td>\n",
              "      <td>5642549</td>\n",
              "      <td>F</td>\n",
              "      <td>2016-04-29T16:19:04Z</td>\n",
              "      <td>2016-04-29T00:00:00Z</td>\n",
              "      <td>62</td>\n",
              "      <td>MATA DA PRAIA</td>\n",
              "      <td>0</td>\n",
              "      <td>0</td>\n",
              "      <td>0</td>\n",
              "      <td>0</td>\n",
              "      <td>0</td>\n",
              "      <td>0</td>\n",
              "      <td>No</td>\n",
              "    </tr>\n",
              "    <tr>\n",
              "      <th>3</th>\n",
              "      <td>8.679512e+11</td>\n",
              "      <td>5642828</td>\n",
              "      <td>F</td>\n",
              "      <td>2016-04-29T17:29:31Z</td>\n",
              "      <td>2016-04-29T00:00:00Z</td>\n",
              "      <td>8</td>\n",
              "      <td>PONTAL DE CAMBURI</td>\n",
              "      <td>0</td>\n",
              "      <td>0</td>\n",
              "      <td>0</td>\n",
              "      <td>0</td>\n",
              "      <td>0</td>\n",
              "      <td>0</td>\n",
              "      <td>No</td>\n",
              "    </tr>\n",
              "    <tr>\n",
              "      <th>4</th>\n",
              "      <td>8.841186e+12</td>\n",
              "      <td>5642494</td>\n",
              "      <td>F</td>\n",
              "      <td>2016-04-29T16:07:23Z</td>\n",
              "      <td>2016-04-29T00:00:00Z</td>\n",
              "      <td>56</td>\n",
              "      <td>JARDIM DA PENHA</td>\n",
              "      <td>0</td>\n",
              "      <td>1</td>\n",
              "      <td>1</td>\n",
              "      <td>0</td>\n",
              "      <td>0</td>\n",
              "      <td>0</td>\n",
              "      <td>No</td>\n",
              "    </tr>\n",
              "  </tbody>\n",
              "</table>\n",
              "</div>\n",
              "      <button class=\"colab-df-convert\" onclick=\"convertToInteractive('df-026f0da0-ffc9-4a6d-a9bb-22961b1166b4')\"\n",
              "              title=\"Convert this dataframe to an interactive table.\"\n",
              "              style=\"display:none;\">\n",
              "        \n",
              "  <svg xmlns=\"http://www.w3.org/2000/svg\" height=\"24px\"viewBox=\"0 0 24 24\"\n",
              "       width=\"24px\">\n",
              "    <path d=\"M0 0h24v24H0V0z\" fill=\"none\"/>\n",
              "    <path d=\"M18.56 5.44l.94 2.06.94-2.06 2.06-.94-2.06-.94-.94-2.06-.94 2.06-2.06.94zm-11 1L8.5 8.5l.94-2.06 2.06-.94-2.06-.94L8.5 2.5l-.94 2.06-2.06.94zm10 10l.94 2.06.94-2.06 2.06-.94-2.06-.94-.94-2.06-.94 2.06-2.06.94z\"/><path d=\"M17.41 7.96l-1.37-1.37c-.4-.4-.92-.59-1.43-.59-.52 0-1.04.2-1.43.59L10.3 9.45l-7.72 7.72c-.78.78-.78 2.05 0 2.83L4 21.41c.39.39.9.59 1.41.59.51 0 1.02-.2 1.41-.59l7.78-7.78 2.81-2.81c.8-.78.8-2.07 0-2.86zM5.41 20L4 18.59l7.72-7.72 1.47 1.35L5.41 20z\"/>\n",
              "  </svg>\n",
              "      </button>\n",
              "      \n",
              "  <style>\n",
              "    .colab-df-container {\n",
              "      display:flex;\n",
              "      flex-wrap:wrap;\n",
              "      gap: 12px;\n",
              "    }\n",
              "\n",
              "    .colab-df-convert {\n",
              "      background-color: #E8F0FE;\n",
              "      border: none;\n",
              "      border-radius: 50%;\n",
              "      cursor: pointer;\n",
              "      display: none;\n",
              "      fill: #1967D2;\n",
              "      height: 32px;\n",
              "      padding: 0 0 0 0;\n",
              "      width: 32px;\n",
              "    }\n",
              "\n",
              "    .colab-df-convert:hover {\n",
              "      background-color: #E2EBFA;\n",
              "      box-shadow: 0px 1px 2px rgba(60, 64, 67, 0.3), 0px 1px 3px 1px rgba(60, 64, 67, 0.15);\n",
              "      fill: #174EA6;\n",
              "    }\n",
              "\n",
              "    [theme=dark] .colab-df-convert {\n",
              "      background-color: #3B4455;\n",
              "      fill: #D2E3FC;\n",
              "    }\n",
              "\n",
              "    [theme=dark] .colab-df-convert:hover {\n",
              "      background-color: #434B5C;\n",
              "      box-shadow: 0px 1px 3px 1px rgba(0, 0, 0, 0.15);\n",
              "      filter: drop-shadow(0px 1px 2px rgba(0, 0, 0, 0.3));\n",
              "      fill: #FFFFFF;\n",
              "    }\n",
              "  </style>\n",
              "\n",
              "      <script>\n",
              "        const buttonEl =\n",
              "          document.querySelector('#df-026f0da0-ffc9-4a6d-a9bb-22961b1166b4 button.colab-df-convert');\n",
              "        buttonEl.style.display =\n",
              "          google.colab.kernel.accessAllowed ? 'block' : 'none';\n",
              "\n",
              "        async function convertToInteractive(key) {\n",
              "          const element = document.querySelector('#df-026f0da0-ffc9-4a6d-a9bb-22961b1166b4');\n",
              "          const dataTable =\n",
              "            await google.colab.kernel.invokeFunction('convertToInteractive',\n",
              "                                                     [key], {});\n",
              "          if (!dataTable) return;\n",
              "\n",
              "          const docLinkHtml = 'Like what you see? Visit the ' +\n",
              "            '<a target=\"_blank\" href=https://colab.research.google.com/notebooks/data_table.ipynb>data table notebook</a>'\n",
              "            + ' to learn more about interactive tables.';\n",
              "          element.innerHTML = '';\n",
              "          dataTable['output_type'] = 'display_data';\n",
              "          await google.colab.output.renderOutput(dataTable, element);\n",
              "          const docLink = document.createElement('div');\n",
              "          docLink.innerHTML = docLinkHtml;\n",
              "          element.appendChild(docLink);\n",
              "        }\n",
              "      </script>\n",
              "    </div>\n",
              "  </div>\n",
              "  "
            ]
          },
          "metadata": {},
          "execution_count": 24
        }
      ],
      "source": [
        "# checking the data frame after dropping the Unnamed column\n",
        "no_showup_df.head() # checking the updated data frame's head"
      ]
    },
    {
      "cell_type": "markdown",
      "metadata": {
        "id": "Mqz5Emc7AxL2"
      },
      "source": [
        "### (i) Useful Statistics from each column"
      ]
    },
    {
      "cell_type": "code",
      "execution_count": 25,
      "metadata": {
        "scrolled": false,
        "colab": {
          "base_uri": "https://localhost:8080/",
          "height": 364
        },
        "id": "kex9NdJKAxL2",
        "outputId": "267ca0fd-5305-4ea6-8b15-315e50e22be8"
      },
      "outputs": [
        {
          "output_type": "execute_result",
          "data": {
            "text/plain": [
              "          patientid  appointmentid            age    scholarship  \\\n",
              "count  1.105270e+05   1.105270e+05  110527.000000  110527.000000   \n",
              "mean   1.474963e+14   5.675305e+06      37.088874       0.098266   \n",
              "std    2.560949e+14   7.129575e+04      23.110205       0.297675   \n",
              "min    3.921784e+04   5.030230e+06      -1.000000       0.000000   \n",
              "25%    4.172614e+12   5.640286e+06      18.000000       0.000000   \n",
              "50%    3.173184e+13   5.680573e+06      37.000000       0.000000   \n",
              "75%    9.439172e+13   5.725524e+06      55.000000       0.000000   \n",
              "max    9.999816e+14   5.790484e+06     115.000000       1.000000   \n",
              "\n",
              "        hipertension       diabetes     alcoholism        handcap  \\\n",
              "count  110527.000000  110527.000000  110527.000000  110527.000000   \n",
              "mean        0.197246       0.071865       0.030400       0.022248   \n",
              "std         0.397921       0.258265       0.171686       0.161543   \n",
              "min         0.000000       0.000000       0.000000       0.000000   \n",
              "25%         0.000000       0.000000       0.000000       0.000000   \n",
              "50%         0.000000       0.000000       0.000000       0.000000   \n",
              "75%         0.000000       0.000000       0.000000       0.000000   \n",
              "max         1.000000       1.000000       1.000000       4.000000   \n",
              "\n",
              "        sms_received  \n",
              "count  110527.000000  \n",
              "mean        0.321026  \n",
              "std         0.466873  \n",
              "min         0.000000  \n",
              "25%         0.000000  \n",
              "50%         0.000000  \n",
              "75%         1.000000  \n",
              "max         1.000000  "
            ],
            "text/html": [
              "\n",
              "  <div id=\"df-8b4236e2-2323-46d4-9d5d-7b2d3fc896cf\">\n",
              "    <div class=\"colab-df-container\">\n",
              "      <div>\n",
              "<style scoped>\n",
              "    .dataframe tbody tr th:only-of-type {\n",
              "        vertical-align: middle;\n",
              "    }\n",
              "\n",
              "    .dataframe tbody tr th {\n",
              "        vertical-align: top;\n",
              "    }\n",
              "\n",
              "    .dataframe thead th {\n",
              "        text-align: right;\n",
              "    }\n",
              "</style>\n",
              "<table border=\"1\" class=\"dataframe\">\n",
              "  <thead>\n",
              "    <tr style=\"text-align: right;\">\n",
              "      <th></th>\n",
              "      <th>patientid</th>\n",
              "      <th>appointmentid</th>\n",
              "      <th>age</th>\n",
              "      <th>scholarship</th>\n",
              "      <th>hipertension</th>\n",
              "      <th>diabetes</th>\n",
              "      <th>alcoholism</th>\n",
              "      <th>handcap</th>\n",
              "      <th>sms_received</th>\n",
              "    </tr>\n",
              "  </thead>\n",
              "  <tbody>\n",
              "    <tr>\n",
              "      <th>count</th>\n",
              "      <td>1.105270e+05</td>\n",
              "      <td>1.105270e+05</td>\n",
              "      <td>110527.000000</td>\n",
              "      <td>110527.000000</td>\n",
              "      <td>110527.000000</td>\n",
              "      <td>110527.000000</td>\n",
              "      <td>110527.000000</td>\n",
              "      <td>110527.000000</td>\n",
              "      <td>110527.000000</td>\n",
              "    </tr>\n",
              "    <tr>\n",
              "      <th>mean</th>\n",
              "      <td>1.474963e+14</td>\n",
              "      <td>5.675305e+06</td>\n",
              "      <td>37.088874</td>\n",
              "      <td>0.098266</td>\n",
              "      <td>0.197246</td>\n",
              "      <td>0.071865</td>\n",
              "      <td>0.030400</td>\n",
              "      <td>0.022248</td>\n",
              "      <td>0.321026</td>\n",
              "    </tr>\n",
              "    <tr>\n",
              "      <th>std</th>\n",
              "      <td>2.560949e+14</td>\n",
              "      <td>7.129575e+04</td>\n",
              "      <td>23.110205</td>\n",
              "      <td>0.297675</td>\n",
              "      <td>0.397921</td>\n",
              "      <td>0.258265</td>\n",
              "      <td>0.171686</td>\n",
              "      <td>0.161543</td>\n",
              "      <td>0.466873</td>\n",
              "    </tr>\n",
              "    <tr>\n",
              "      <th>min</th>\n",
              "      <td>3.921784e+04</td>\n",
              "      <td>5.030230e+06</td>\n",
              "      <td>-1.000000</td>\n",
              "      <td>0.000000</td>\n",
              "      <td>0.000000</td>\n",
              "      <td>0.000000</td>\n",
              "      <td>0.000000</td>\n",
              "      <td>0.000000</td>\n",
              "      <td>0.000000</td>\n",
              "    </tr>\n",
              "    <tr>\n",
              "      <th>25%</th>\n",
              "      <td>4.172614e+12</td>\n",
              "      <td>5.640286e+06</td>\n",
              "      <td>18.000000</td>\n",
              "      <td>0.000000</td>\n",
              "      <td>0.000000</td>\n",
              "      <td>0.000000</td>\n",
              "      <td>0.000000</td>\n",
              "      <td>0.000000</td>\n",
              "      <td>0.000000</td>\n",
              "    </tr>\n",
              "    <tr>\n",
              "      <th>50%</th>\n",
              "      <td>3.173184e+13</td>\n",
              "      <td>5.680573e+06</td>\n",
              "      <td>37.000000</td>\n",
              "      <td>0.000000</td>\n",
              "      <td>0.000000</td>\n",
              "      <td>0.000000</td>\n",
              "      <td>0.000000</td>\n",
              "      <td>0.000000</td>\n",
              "      <td>0.000000</td>\n",
              "    </tr>\n",
              "    <tr>\n",
              "      <th>75%</th>\n",
              "      <td>9.439172e+13</td>\n",
              "      <td>5.725524e+06</td>\n",
              "      <td>55.000000</td>\n",
              "      <td>0.000000</td>\n",
              "      <td>0.000000</td>\n",
              "      <td>0.000000</td>\n",
              "      <td>0.000000</td>\n",
              "      <td>0.000000</td>\n",
              "      <td>1.000000</td>\n",
              "    </tr>\n",
              "    <tr>\n",
              "      <th>max</th>\n",
              "      <td>9.999816e+14</td>\n",
              "      <td>5.790484e+06</td>\n",
              "      <td>115.000000</td>\n",
              "      <td>1.000000</td>\n",
              "      <td>1.000000</td>\n",
              "      <td>1.000000</td>\n",
              "      <td>1.000000</td>\n",
              "      <td>4.000000</td>\n",
              "      <td>1.000000</td>\n",
              "    </tr>\n",
              "  </tbody>\n",
              "</table>\n",
              "</div>\n",
              "      <button class=\"colab-df-convert\" onclick=\"convertToInteractive('df-8b4236e2-2323-46d4-9d5d-7b2d3fc896cf')\"\n",
              "              title=\"Convert this dataframe to an interactive table.\"\n",
              "              style=\"display:none;\">\n",
              "        \n",
              "  <svg xmlns=\"http://www.w3.org/2000/svg\" height=\"24px\"viewBox=\"0 0 24 24\"\n",
              "       width=\"24px\">\n",
              "    <path d=\"M0 0h24v24H0V0z\" fill=\"none\"/>\n",
              "    <path d=\"M18.56 5.44l.94 2.06.94-2.06 2.06-.94-2.06-.94-.94-2.06-.94 2.06-2.06.94zm-11 1L8.5 8.5l.94-2.06 2.06-.94-2.06-.94L8.5 2.5l-.94 2.06-2.06.94zm10 10l.94 2.06.94-2.06 2.06-.94-2.06-.94-.94-2.06-.94 2.06-2.06.94z\"/><path d=\"M17.41 7.96l-1.37-1.37c-.4-.4-.92-.59-1.43-.59-.52 0-1.04.2-1.43.59L10.3 9.45l-7.72 7.72c-.78.78-.78 2.05 0 2.83L4 21.41c.39.39.9.59 1.41.59.51 0 1.02-.2 1.41-.59l7.78-7.78 2.81-2.81c.8-.78.8-2.07 0-2.86zM5.41 20L4 18.59l7.72-7.72 1.47 1.35L5.41 20z\"/>\n",
              "  </svg>\n",
              "      </button>\n",
              "      \n",
              "  <style>\n",
              "    .colab-df-container {\n",
              "      display:flex;\n",
              "      flex-wrap:wrap;\n",
              "      gap: 12px;\n",
              "    }\n",
              "\n",
              "    .colab-df-convert {\n",
              "      background-color: #E8F0FE;\n",
              "      border: none;\n",
              "      border-radius: 50%;\n",
              "      cursor: pointer;\n",
              "      display: none;\n",
              "      fill: #1967D2;\n",
              "      height: 32px;\n",
              "      padding: 0 0 0 0;\n",
              "      width: 32px;\n",
              "    }\n",
              "\n",
              "    .colab-df-convert:hover {\n",
              "      background-color: #E2EBFA;\n",
              "      box-shadow: 0px 1px 2px rgba(60, 64, 67, 0.3), 0px 1px 3px 1px rgba(60, 64, 67, 0.15);\n",
              "      fill: #174EA6;\n",
              "    }\n",
              "\n",
              "    [theme=dark] .colab-df-convert {\n",
              "      background-color: #3B4455;\n",
              "      fill: #D2E3FC;\n",
              "    }\n",
              "\n",
              "    [theme=dark] .colab-df-convert:hover {\n",
              "      background-color: #434B5C;\n",
              "      box-shadow: 0px 1px 3px 1px rgba(0, 0, 0, 0.15);\n",
              "      filter: drop-shadow(0px 1px 2px rgba(0, 0, 0, 0.3));\n",
              "      fill: #FFFFFF;\n",
              "    }\n",
              "  </style>\n",
              "\n",
              "      <script>\n",
              "        const buttonEl =\n",
              "          document.querySelector('#df-8b4236e2-2323-46d4-9d5d-7b2d3fc896cf button.colab-df-convert');\n",
              "        buttonEl.style.display =\n",
              "          google.colab.kernel.accessAllowed ? 'block' : 'none';\n",
              "\n",
              "        async function convertToInteractive(key) {\n",
              "          const element = document.querySelector('#df-8b4236e2-2323-46d4-9d5d-7b2d3fc896cf');\n",
              "          const dataTable =\n",
              "            await google.colab.kernel.invokeFunction('convertToInteractive',\n",
              "                                                     [key], {});\n",
              "          if (!dataTable) return;\n",
              "\n",
              "          const docLinkHtml = 'Like what you see? Visit the ' +\n",
              "            '<a target=\"_blank\" href=https://colab.research.google.com/notebooks/data_table.ipynb>data table notebook</a>'\n",
              "            + ' to learn more about interactive tables.';\n",
              "          element.innerHTML = '';\n",
              "          dataTable['output_type'] = 'display_data';\n",
              "          await google.colab.output.renderOutput(dataTable, element);\n",
              "          const docLink = document.createElement('div');\n",
              "          docLink.innerHTML = docLinkHtml;\n",
              "          element.appendChild(docLink);\n",
              "        }\n",
              "      </script>\n",
              "    </div>\n",
              "  </div>\n",
              "  "
            ]
          },
          "metadata": {},
          "execution_count": 25
        }
      ],
      "source": [
        "# important summary of statistics drawn from each column of the dataframe\n",
        "\n",
        "no_showup_df.describe() #code to output the columns statistics"
      ]
    },
    {
      "cell_type": "markdown",
      "metadata": {
        "id": "OrAHpas1AxL3"
      },
      "source": [
        "The statistics were important to allow us know the averages of the different columns. For example, from the statistics, we could note that the average age of people from the dataset was 37 years old."
      ]
    },
    {
      "cell_type": "markdown",
      "metadata": {
        "id": "1k2WOATjAxL3"
      },
      "source": [
        "### (ii) Printing correlation to assess the retionships of the different variables using their correlation values"
      ]
    },
    {
      "cell_type": "code",
      "execution_count": 26,
      "metadata": {
        "colab": {
          "base_uri": "https://localhost:8080/",
          "height": 351
        },
        "id": "aFKs7wggAxL3",
        "outputId": "2bfdf007-af6d-4e21-f26c-40fe3c2a8350"
      },
      "outputs": [
        {
          "output_type": "execute_result",
          "data": {
            "text/plain": [
              "<pandas.io.formats.style.Styler at 0x7fa99b0e8490>"
            ],
            "text/html": [
              "<style type=\"text/css\">\n",
              "#T_b4c1b_row0_col0, #T_b4c1b_row1_col1, #T_b4c1b_row2_col2, #T_b4c1b_row3_col3, #T_b4c1b_row4_col4, #T_b4c1b_row5_col5, #T_b4c1b_row6_col6, #T_b4c1b_row7_col7, #T_b4c1b_row8_col8 {\n",
              "  background-color: #b40426;\n",
              "  color: #f1f1f1;\n",
              "}\n",
              "#T_b4c1b_row0_col1 {\n",
              "  background-color: #7ea1fa;\n",
              "  color: #f1f1f1;\n",
              "}\n",
              "#T_b4c1b_row0_col2, #T_b4c1b_row0_col3, #T_b4c1b_row5_col7, #T_b4c1b_row7_col5 {\n",
              "  background-color: #536edd;\n",
              "  color: #f1f1f1;\n",
              "}\n",
              "#T_b4c1b_row0_col4, #T_b4c1b_row1_col0, #T_b4c1b_row3_col7, #T_b4c1b_row8_col4 {\n",
              "  background-color: #3e51c5;\n",
              "  color: #f1f1f1;\n",
              "}\n",
              "#T_b4c1b_row0_col5 {\n",
              "  background-color: #4257c9;\n",
              "  color: #f1f1f1;\n",
              "}\n",
              "#T_b4c1b_row0_col6, #T_b4c1b_row1_col7 {\n",
              "  background-color: #455cce;\n",
              "  color: #f1f1f1;\n",
              "}\n",
              "#T_b4c1b_row0_col7 {\n",
              "  background-color: #3f53c6;\n",
              "  color: #f1f1f1;\n",
              "}\n",
              "#T_b4c1b_row0_col8 {\n",
              "  background-color: #7a9df8;\n",
              "  color: #f1f1f1;\n",
              "}\n",
              "#T_b4c1b_row1_col2, #T_b4c1b_row4_col3 {\n",
              "  background-color: #4f69d9;\n",
              "  color: #f1f1f1;\n",
              "}\n",
              "#T_b4c1b_row1_col3, #T_b4c1b_row4_col7 {\n",
              "  background-color: #5a78e4;\n",
              "  color: #f1f1f1;\n",
              "}\n",
              "#T_b4c1b_row1_col4 {\n",
              "  background-color: #445acc;\n",
              "  color: #f1f1f1;\n",
              "}\n",
              "#T_b4c1b_row1_col5, #T_b4c1b_row5_col6 {\n",
              "  background-color: #485fd1;\n",
              "  color: #f1f1f1;\n",
              "}\n",
              "#T_b4c1b_row1_col6 {\n",
              "  background-color: #4b64d5;\n",
              "  color: #f1f1f1;\n",
              "}\n",
              "#T_b4c1b_row1_col8, #T_b4c1b_row2_col3, #T_b4c1b_row3_col2, #T_b4c1b_row3_col4, #T_b4c1b_row3_col5, #T_b4c1b_row4_col0, #T_b4c1b_row7_col0, #T_b4c1b_row8_col0, #T_b4c1b_row8_col1, #T_b4c1b_row8_col6, #T_b4c1b_row8_col7 {\n",
              "  background-color: #3b4cc0;\n",
              "  color: #f1f1f1;\n",
              "}\n",
              "#T_b4c1b_row2_col0, #T_b4c1b_row3_col0 {\n",
              "  background-color: #3c4ec2;\n",
              "  color: #f1f1f1;\n",
              "}\n",
              "#T_b4c1b_row2_col1 {\n",
              "  background-color: #779af7;\n",
              "  color: #f1f1f1;\n",
              "}\n",
              "#T_b4c1b_row2_col4 {\n",
              "  background-color: #e0dbd8;\n",
              "  color: #000000;\n",
              "}\n",
              "#T_b4c1b_row2_col5 {\n",
              "  background-color: #a2c1ff;\n",
              "  color: #000000;\n",
              "}\n",
              "#T_b4c1b_row2_col6 {\n",
              "  background-color: #5f7fe8;\n",
              "  color: #f1f1f1;\n",
              "}\n",
              "#T_b4c1b_row2_col7, #T_b4c1b_row7_col4 {\n",
              "  background-color: #5977e3;\n",
              "  color: #f1f1f1;\n",
              "}\n",
              "#T_b4c1b_row2_col8, #T_b4c1b_row4_col1 {\n",
              "  background-color: #80a3fa;\n",
              "  color: #f1f1f1;\n",
              "}\n",
              "#T_b4c1b_row3_col1, #T_b4c1b_row5_col1 {\n",
              "  background-color: #82a6fb;\n",
              "  color: #f1f1f1;\n",
              "}\n",
              "#T_b4c1b_row3_col6, #T_b4c1b_row5_col3 {\n",
              "  background-color: #4c66d6;\n",
              "  color: #f1f1f1;\n",
              "}\n",
              "#T_b4c1b_row3_col8 {\n",
              "  background-color: #7da0f9;\n",
              "  color: #f1f1f1;\n",
              "}\n",
              "#T_b4c1b_row4_col2 {\n",
              "  background-color: #e8d6cc;\n",
              "  color: #000000;\n",
              "}\n",
              "#T_b4c1b_row4_col5 {\n",
              "  background-color: #cedaeb;\n",
              "  color: #000000;\n",
              "}\n",
              "#T_b4c1b_row4_col6 {\n",
              "  background-color: #5d7ce6;\n",
              "  color: #f1f1f1;\n",
              "}\n",
              "#T_b4c1b_row4_col8 {\n",
              "  background-color: #7b9ff9;\n",
              "  color: #f1f1f1;\n",
              "}\n",
              "#T_b4c1b_row5_col0, #T_b4c1b_row8_col5 {\n",
              "  background-color: #3d50c3;\n",
              "  color: #f1f1f1;\n",
              "}\n",
              "#T_b4c1b_row5_col2 {\n",
              "  background-color: #b1cbfc;\n",
              "  color: #000000;\n",
              "}\n",
              "#T_b4c1b_row5_col4 {\n",
              "  background-color: #cdd9ec;\n",
              "  color: #000000;\n",
              "}\n",
              "#T_b4c1b_row5_col8 {\n",
              "  background-color: #799cf8;\n",
              "  color: #f1f1f1;\n",
              "}\n",
              "#T_b4c1b_row6_col0 {\n",
              "  background-color: #4055c8;\n",
              "  color: #f1f1f1;\n",
              "}\n",
              "#T_b4c1b_row6_col1 {\n",
              "  background-color: #85a8fc;\n",
              "  color: #f1f1f1;\n",
              "}\n",
              "#T_b4c1b_row6_col2 {\n",
              "  background-color: #7295f4;\n",
              "  color: #f1f1f1;\n",
              "}\n",
              "#T_b4c1b_row6_col3 {\n",
              "  background-color: #5e7de7;\n",
              "  color: #f1f1f1;\n",
              "}\n",
              "#T_b4c1b_row6_col4 {\n",
              "  background-color: #5b7ae5;\n",
              "  color: #f1f1f1;\n",
              "}\n",
              "#T_b4c1b_row6_col5 {\n",
              "  background-color: #465ecf;\n",
              "  color: #f1f1f1;\n",
              "}\n",
              "#T_b4c1b_row6_col7, #T_b4c1b_row7_col6 {\n",
              "  background-color: #4358cb;\n",
              "  color: #f1f1f1;\n",
              "}\n",
              "#T_b4c1b_row6_col8 {\n",
              "  background-color: #7597f6;\n",
              "  color: #f1f1f1;\n",
              "}\n",
              "#T_b4c1b_row7_col1 {\n",
              "  background-color: #81a4fb;\n",
              "  color: #f1f1f1;\n",
              "}\n",
              "#T_b4c1b_row7_col2 {\n",
              "  background-color: #6b8df0;\n",
              "  color: #f1f1f1;\n",
              "}\n",
              "#T_b4c1b_row7_col3 {\n",
              "  background-color: #516ddb;\n",
              "  color: #f1f1f1;\n",
              "}\n",
              "#T_b4c1b_row7_col8 {\n",
              "  background-color: #7699f6;\n",
              "  color: #f1f1f1;\n",
              "}\n",
              "#T_b4c1b_row8_col2 {\n",
              "  background-color: #5875e1;\n",
              "  color: #f1f1f1;\n",
              "}\n",
              "#T_b4c1b_row8_col3 {\n",
              "  background-color: #5470de;\n",
              "  color: #f1f1f1;\n",
              "}\n",
              "</style>\n",
              "<table id=\"T_b4c1b_\" class=\"dataframe\">\n",
              "  <thead>\n",
              "    <tr>\n",
              "      <th class=\"blank level0\" >&nbsp;</th>\n",
              "      <th class=\"col_heading level0 col0\" >patientid</th>\n",
              "      <th class=\"col_heading level0 col1\" >appointmentid</th>\n",
              "      <th class=\"col_heading level0 col2\" >age</th>\n",
              "      <th class=\"col_heading level0 col3\" >scholarship</th>\n",
              "      <th class=\"col_heading level0 col4\" >hipertension</th>\n",
              "      <th class=\"col_heading level0 col5\" >diabetes</th>\n",
              "      <th class=\"col_heading level0 col6\" >alcoholism</th>\n",
              "      <th class=\"col_heading level0 col7\" >handcap</th>\n",
              "      <th class=\"col_heading level0 col8\" >sms_received</th>\n",
              "    </tr>\n",
              "  </thead>\n",
              "  <tbody>\n",
              "    <tr>\n",
              "      <th id=\"T_b4c1b_level0_row0\" class=\"row_heading level0 row0\" >patientid</th>\n",
              "      <td id=\"T_b4c1b_row0_col0\" class=\"data row0 col0\" >1.000000</td>\n",
              "      <td id=\"T_b4c1b_row0_col1\" class=\"data row0 col1\" >0.004039</td>\n",
              "      <td id=\"T_b4c1b_row0_col2\" class=\"data row0 col2\" >-0.004139</td>\n",
              "      <td id=\"T_b4c1b_row0_col3\" class=\"data row0 col3\" >-0.002880</td>\n",
              "      <td id=\"T_b4c1b_row0_col4\" class=\"data row0 col4\" >-0.006441</td>\n",
              "      <td id=\"T_b4c1b_row0_col5\" class=\"data row0 col5\" >0.001605</td>\n",
              "      <td id=\"T_b4c1b_row0_col6\" class=\"data row0 col6\" >0.011011</td>\n",
              "      <td id=\"T_b4c1b_row0_col7\" class=\"data row0 col7\" >-0.007916</td>\n",
              "      <td id=\"T_b4c1b_row0_col8\" class=\"data row0 col8\" >-0.009749</td>\n",
              "    </tr>\n",
              "    <tr>\n",
              "      <th id=\"T_b4c1b_level0_row1\" class=\"row_heading level0 row1\" >appointmentid</th>\n",
              "      <td id=\"T_b4c1b_row1_col0\" class=\"data row1 col0\" >0.004039</td>\n",
              "      <td id=\"T_b4c1b_row1_col1\" class=\"data row1 col1\" >1.000000</td>\n",
              "      <td id=\"T_b4c1b_row1_col2\" class=\"data row1 col2\" >-0.019126</td>\n",
              "      <td id=\"T_b4c1b_row1_col3\" class=\"data row1 col3\" >0.022615</td>\n",
              "      <td id=\"T_b4c1b_row1_col4\" class=\"data row1 col4\" >0.012752</td>\n",
              "      <td id=\"T_b4c1b_row1_col5\" class=\"data row1 col5\" >0.022628</td>\n",
              "      <td id=\"T_b4c1b_row1_col6\" class=\"data row1 col6\" >0.032944</td>\n",
              "      <td id=\"T_b4c1b_row1_col7\" class=\"data row1 col7\" >0.014106</td>\n",
              "      <td id=\"T_b4c1b_row1_col8\" class=\"data row1 col8\" >-0.256618</td>\n",
              "    </tr>\n",
              "    <tr>\n",
              "      <th id=\"T_b4c1b_level0_row2\" class=\"row_heading level0 row2\" >age</th>\n",
              "      <td id=\"T_b4c1b_row2_col0\" class=\"data row2 col0\" >-0.004139</td>\n",
              "      <td id=\"T_b4c1b_row2_col1\" class=\"data row2 col1\" >-0.019126</td>\n",
              "      <td id=\"T_b4c1b_row2_col2\" class=\"data row2 col2\" >1.000000</td>\n",
              "      <td id=\"T_b4c1b_row2_col3\" class=\"data row2 col3\" >-0.092457</td>\n",
              "      <td id=\"T_b4c1b_row2_col4\" class=\"data row2 col4\" >0.504586</td>\n",
              "      <td id=\"T_b4c1b_row2_col5\" class=\"data row2 col5\" >0.292391</td>\n",
              "      <td id=\"T_b4c1b_row2_col6\" class=\"data row2 col6\" >0.095811</td>\n",
              "      <td id=\"T_b4c1b_row2_col7\" class=\"data row2 col7\" >0.078033</td>\n",
              "      <td id=\"T_b4c1b_row2_col8\" class=\"data row2 col8\" >0.012643</td>\n",
              "    </tr>\n",
              "    <tr>\n",
              "      <th id=\"T_b4c1b_level0_row3\" class=\"row_heading level0 row3\" >scholarship</th>\n",
              "      <td id=\"T_b4c1b_row3_col0\" class=\"data row3 col0\" >-0.002880</td>\n",
              "      <td id=\"T_b4c1b_row3_col1\" class=\"data row3 col1\" >0.022615</td>\n",
              "      <td id=\"T_b4c1b_row3_col2\" class=\"data row3 col2\" >-0.092457</td>\n",
              "      <td id=\"T_b4c1b_row3_col3\" class=\"data row3 col3\" >1.000000</td>\n",
              "      <td id=\"T_b4c1b_row3_col4\" class=\"data row3 col4\" >-0.019729</td>\n",
              "      <td id=\"T_b4c1b_row3_col5\" class=\"data row3 col5\" >-0.024894</td>\n",
              "      <td id=\"T_b4c1b_row3_col6\" class=\"data row3 col6\" >0.035022</td>\n",
              "      <td id=\"T_b4c1b_row3_col7\" class=\"data row3 col7\" >-0.008586</td>\n",
              "      <td id=\"T_b4c1b_row3_col8\" class=\"data row3 col8\" >0.001194</td>\n",
              "    </tr>\n",
              "    <tr>\n",
              "      <th id=\"T_b4c1b_level0_row4\" class=\"row_heading level0 row4\" >hipertension</th>\n",
              "      <td id=\"T_b4c1b_row4_col0\" class=\"data row4 col0\" >-0.006441</td>\n",
              "      <td id=\"T_b4c1b_row4_col1\" class=\"data row4 col1\" >0.012752</td>\n",
              "      <td id=\"T_b4c1b_row4_col2\" class=\"data row4 col2\" >0.504586</td>\n",
              "      <td id=\"T_b4c1b_row4_col3\" class=\"data row4 col3\" >-0.019729</td>\n",
              "      <td id=\"T_b4c1b_row4_col4\" class=\"data row4 col4\" >1.000000</td>\n",
              "      <td id=\"T_b4c1b_row4_col5\" class=\"data row4 col5\" >0.433086</td>\n",
              "      <td id=\"T_b4c1b_row4_col6\" class=\"data row4 col6\" >0.087971</td>\n",
              "      <td id=\"T_b4c1b_row4_col7\" class=\"data row4 col7\" >0.080083</td>\n",
              "      <td id=\"T_b4c1b_row4_col8\" class=\"data row4 col8\" >-0.006267</td>\n",
              "    </tr>\n",
              "    <tr>\n",
              "      <th id=\"T_b4c1b_level0_row5\" class=\"row_heading level0 row5\" >diabetes</th>\n",
              "      <td id=\"T_b4c1b_row5_col0\" class=\"data row5 col0\" >0.001605</td>\n",
              "      <td id=\"T_b4c1b_row5_col1\" class=\"data row5 col1\" >0.022628</td>\n",
              "      <td id=\"T_b4c1b_row5_col2\" class=\"data row5 col2\" >0.292391</td>\n",
              "      <td id=\"T_b4c1b_row5_col3\" class=\"data row5 col3\" >-0.024894</td>\n",
              "      <td id=\"T_b4c1b_row5_col4\" class=\"data row5 col4\" >0.433086</td>\n",
              "      <td id=\"T_b4c1b_row5_col5\" class=\"data row5 col5\" >1.000000</td>\n",
              "      <td id=\"T_b4c1b_row5_col6\" class=\"data row5 col6\" >0.018474</td>\n",
              "      <td id=\"T_b4c1b_row5_col7\" class=\"data row5 col7\" >0.057530</td>\n",
              "      <td id=\"T_b4c1b_row5_col8\" class=\"data row5 col8\" >-0.014550</td>\n",
              "    </tr>\n",
              "    <tr>\n",
              "      <th id=\"T_b4c1b_level0_row6\" class=\"row_heading level0 row6\" >alcoholism</th>\n",
              "      <td id=\"T_b4c1b_row6_col0\" class=\"data row6 col0\" >0.011011</td>\n",
              "      <td id=\"T_b4c1b_row6_col1\" class=\"data row6 col1\" >0.032944</td>\n",
              "      <td id=\"T_b4c1b_row6_col2\" class=\"data row6 col2\" >0.095811</td>\n",
              "      <td id=\"T_b4c1b_row6_col3\" class=\"data row6 col3\" >0.035022</td>\n",
              "      <td id=\"T_b4c1b_row6_col4\" class=\"data row6 col4\" >0.087971</td>\n",
              "      <td id=\"T_b4c1b_row6_col5\" class=\"data row6 col5\" >0.018474</td>\n",
              "      <td id=\"T_b4c1b_row6_col6\" class=\"data row6 col6\" >1.000000</td>\n",
              "      <td id=\"T_b4c1b_row6_col7\" class=\"data row6 col7\" >0.004648</td>\n",
              "      <td id=\"T_b4c1b_row6_col8\" class=\"data row6 col8\" >-0.026147</td>\n",
              "    </tr>\n",
              "    <tr>\n",
              "      <th id=\"T_b4c1b_level0_row7\" class=\"row_heading level0 row7\" >handcap</th>\n",
              "      <td id=\"T_b4c1b_row7_col0\" class=\"data row7 col0\" >-0.007916</td>\n",
              "      <td id=\"T_b4c1b_row7_col1\" class=\"data row7 col1\" >0.014106</td>\n",
              "      <td id=\"T_b4c1b_row7_col2\" class=\"data row7 col2\" >0.078033</td>\n",
              "      <td id=\"T_b4c1b_row7_col3\" class=\"data row7 col3\" >-0.008586</td>\n",
              "      <td id=\"T_b4c1b_row7_col4\" class=\"data row7 col4\" >0.080083</td>\n",
              "      <td id=\"T_b4c1b_row7_col5\" class=\"data row7 col5\" >0.057530</td>\n",
              "      <td id=\"T_b4c1b_row7_col6\" class=\"data row7 col6\" >0.004648</td>\n",
              "      <td id=\"T_b4c1b_row7_col7\" class=\"data row7 col7\" >1.000000</td>\n",
              "      <td id=\"T_b4c1b_row7_col8\" class=\"data row7 col8\" >-0.024161</td>\n",
              "    </tr>\n",
              "    <tr>\n",
              "      <th id=\"T_b4c1b_level0_row8\" class=\"row_heading level0 row8\" >sms_received</th>\n",
              "      <td id=\"T_b4c1b_row8_col0\" class=\"data row8 col0\" >-0.009749</td>\n",
              "      <td id=\"T_b4c1b_row8_col1\" class=\"data row8 col1\" >-0.256618</td>\n",
              "      <td id=\"T_b4c1b_row8_col2\" class=\"data row8 col2\" >0.012643</td>\n",
              "      <td id=\"T_b4c1b_row8_col3\" class=\"data row8 col3\" >0.001194</td>\n",
              "      <td id=\"T_b4c1b_row8_col4\" class=\"data row8 col4\" >-0.006267</td>\n",
              "      <td id=\"T_b4c1b_row8_col5\" class=\"data row8 col5\" >-0.014550</td>\n",
              "      <td id=\"T_b4c1b_row8_col6\" class=\"data row8 col6\" >-0.026147</td>\n",
              "      <td id=\"T_b4c1b_row8_col7\" class=\"data row8 col7\" >-0.024161</td>\n",
              "      <td id=\"T_b4c1b_row8_col8\" class=\"data row8 col8\" >1.000000</td>\n",
              "    </tr>\n",
              "  </tbody>\n",
              "</table>\n"
            ]
          },
          "metadata": {},
          "execution_count": 26
        }
      ],
      "source": [
        "# using the correlation function corr() on our data frame\n",
        "corr = no_showup_df.corr() \n",
        "\n",
        "#setting up the correlation style for our output\n",
        "corr.style.background_gradient(cmap='coolwarm') "
      ]
    },
    {
      "cell_type": "markdown",
      "metadata": {
        "id": "OGGeBW2jAxL3"
      },
      "source": [
        "1. From the output table displayed, I discovered that there was a positive distribution of correlation amongst some variables. For instance, we can tell that **Age and Hipertension are moderately correlated** with a correlation coefficient of **0.504586**. Others that were positevely **correlated**, though **lowely**, were **Diabetes and Hipertension** with a coeffecient of **0.433086** followed by **Age and Diabetes** with a correlation coeffecient of **0.292391**.  "
      ]
    },
    {
      "cell_type": "markdown",
      "metadata": {
        "id": "1b6OUyJjAxL4"
      },
      "source": [
        "2. Although \"correlation does not imply causation\", the correlation coefficient table drove a **keen interest** on metrics like **Age**, **Hipertension** and **Diabetes** to be explored in our investigation."
      ]
    },
    {
      "cell_type": "markdown",
      "metadata": {
        "id": "SeKXub0BAxL4"
      },
      "source": [
        "To answer the questions that I had, I proceeded to draw histograms of the number of people against the different columns. This was important and led to meaningful descriptive statistics through visualizations of how the people were distributed across the different field e.g gender, age, showing up for appointments or not, and so on."
      ]
    },
    {
      "cell_type": "markdown",
      "metadata": {
        "id": "bFRAM9l-AxL6"
      },
      "source": [
        "### 1. How many people showed up for an appointment ?\n",
        "\n",
        "It is **important** to note that:\n",
        "1. no_showapp = **(No) indicates** that the person/people **showed up** for the appointment\n",
        "2. no_show = **(Yes) means** that the person/people **did not show** up for the appointment"
      ]
    },
    {
      "cell_type": "code",
      "source": [
        "# Plotting histogram\n",
        "\n",
        "#creating a function to plot histogram\n",
        "def plot_histogram(column_name, xaxis_label, title):\n",
        "  no_showup_df[column_name].hist(); \n",
        "  plt.xlabel(xaxis_label);\n",
        "  plt.ylabel('Number of People')\n",
        "  plt.title(title);\n",
        "  plt.grid(True)\n",
        "\n",
        "#calling the plot_histogram function and input values\n",
        "plot_histogram('no_show','no_show','No_Show Distribution')"
      ],
      "metadata": {
        "colab": {
          "base_uri": "https://localhost:8080/",
          "height": 296
        },
        "id": "9Bh6HsIpDVNC",
        "outputId": "19441999-20f6-4bb0-c43a-44444a161f19"
      },
      "execution_count": 35,
      "outputs": [
        {
          "output_type": "display_data",
          "data": {
            "text/plain": [
              "<Figure size 432x288 with 1 Axes>"
            ],
            "image/png": "[encoded data removed]"
          },
          "metadata": {
            "needs_background": "light"
          }
        }
      ]
    },
    {
      "cell_type": "markdown",
      "metadata": {
        "id": "zMjNrUwCAxL7"
      },
      "source": [
        "From the histogram above, **out of the 110,527 people** we can tell that **many people** (above **80,000** people) **showed up** for for appointments compared to the close to 20,000 people who did not show up for appointments."
      ]
    },
    {
      "cell_type": "markdown",
      "metadata": {
        "id": "HkeXjluFAxL7"
      },
      "source": [
        "### 2. For the scheduled appointments, what is the comparison of people by Gender ?"
      ]
    },
    {
      "cell_type": "code",
      "source": [
        "#calling the plot_histogram function and input values\n",
        "plot_histogram('gender','Gender', 'Sheduled appointments as per Gender')"
      ],
      "metadata": {
        "colab": {
          "base_uri": "https://localhost:8080/",
          "height": 295
        },
        "id": "kQNWLiurztMU",
        "outputId": "de64c184-8669-4ecb-f847-8ab597f0e977"
      },
      "execution_count": 36,
      "outputs": [
        {
          "output_type": "display_data",
          "data": {
            "text/plain": [
              "<Figure size 432x288 with 1 Axes>"
            ],
            "image/png": "[encoded data removed]"
          },
          "metadata": {
            "needs_background": "light"
          }
        }
      ]
    },
    {
      "cell_type": "markdown",
      "metadata": {
        "id": "hSEbuOpKAxL8"
      },
      "source": [
        "From the histogram above, more females (F) compaperd to males (M) visited the different neighbourhood hospitals. On an approximate, out of the **110,000 people**:\n",
        "1. **around 70,000 females visisted** the hospitals \n",
        "2. **almost 40,000 males went to hospital** "
      ]
    },
    {
      "cell_type": "markdown",
      "metadata": {
        "id": "VLZJMh8GAxL8"
      },
      "source": [
        "### 3. What was the age distribution of the number of people who were scheduled for appointment ?"
      ]
    },
    {
      "cell_type": "code",
      "execution_count": 38,
      "metadata": {
        "colab": {
          "base_uri": "https://localhost:8080/",
          "height": 295
        },
        "id": "Uj2LzgajAxL8",
        "outputId": "a97d5f69-d0ac-4482-8694-92add2c4c9b4"
      },
      "outputs": [
        {
          "output_type": "display_data",
          "data": {
            "text/plain": [
              "<Figure size 432x288 with 1 Axes>"
            ],
            "image/png": "[encoded data removed]"
          },
          "metadata": {
            "needs_background": "light"
          }
        }
      ],
      "source": [
        "#calling the plot_histogram function and input values\n",
        "plot_histogram('age','Age','Distribution of People against Age')"
      ]
    },
    {
      "cell_type": "markdown",
      "metadata": {
        "id": "BRZZEpMSAxMB"
      },
      "source": [
        "From the histogram drawn, we can tell that few of the people who visited the hospital were eldery (60 years and above). **Majority of the peole who went to hospital were aged below 60 years old**."
      ]
    },
    {
      "cell_type": "markdown",
      "metadata": {
        "id": "78DuW46pAxMB"
      },
      "source": [
        "### 4. How many people who were scheduled for appointments were under the Bolsa Familia Scholarship ?"
      ]
    },
    {
      "cell_type": "code",
      "execution_count": 39,
      "metadata": {
        "colab": {
          "base_uri": "https://localhost:8080/",
          "height": 295
        },
        "id": "zjK7ITluAxMC",
        "outputId": "0468af69-ed68-444f-96f5-3430d1f69c65"
      },
      "outputs": [
        {
          "output_type": "display_data",
          "data": {
            "text/plain": [
              "<Figure size 432x288 with 1 Axes>"
            ],
            "image/png": "[encoded data removed]"
          },
          "metadata": {
            "needs_background": "light"
          }
        }
      ],
      "source": [
        "# checking how many people who visited the neighbourhood hospitals\n",
        "# benefit from the scholarship\n",
        "\n",
        "#calling the plot_histogram function and input values\n",
        "plot_histogram('scholarship','Scholarship','Distribution of People against Scholarship')"
      ]
    },
    {
      "cell_type": "markdown",
      "metadata": {
        "id": "7G7urPllAxMC"
      },
      "source": [
        "From the histogram that was drawn, '1' depicting True for scholarship and '0' zero indicating 'False' / not in the scholarship program, we could tell that **majority of people (around 100,000)** who were scheduled for appointments **were not part of the Bolsa Familia scholarship**."
      ]
    },
    {
      "cell_type": "markdown",
      "metadata": {
        "id": "cvVblW6_AxMD"
      },
      "source": [
        "### 4.2 How many people who had appointments were under the Bolsa Familia Scholarship ?"
      ]
    },
    {
      "cell_type": "code",
      "execution_count": 40,
      "metadata": {
        "colab": {
          "base_uri": "https://localhost:8080/",
          "height": 296
        },
        "id": "PWoE8ShUAxMD",
        "outputId": "4d0e3b2e-6340-4394-a7ab-ef54507062b0"
      },
      "outputs": [
        {
          "output_type": "display_data",
          "data": {
            "text/plain": [
              "<Figure size 432x288 with 1 Axes>"
            ],
            "image/png": "[encoded data removed]"
          },
          "metadata": {
            "needs_background": "light"
          }
        }
      ],
      "source": [
        "#plotting Scholarship beneficiaries and non-beneficiaries who showed up and did not show up for appointments\n",
        "\n",
        "plt.hist(no_showup_df.no_show[no_showup_df.scholarship == False], 10, facecolor='g', alpha=1, label='non-scholarship');\n",
        "plt.hist(no_showup_df.no_show[no_showup_df.scholarship == True], 10, facecolor='r', alpha=1, label='scholarship');\n",
        "plt.legend()\n",
        "plt.xlabel('Did_not_showup')\n",
        "plt.ylabel('Number of people')\n",
        "plt.title('Appointmennt show-up in relation to Scholarship')\n",
        "plt.grid(True)"
      ]
    },
    {
      "cell_type": "markdown",
      "metadata": {
        "id": "qLU199IRAxME"
      },
      "source": [
        "Plotting the histogram above, I noticed that the people who **had appointments and were under Bosla Scholarship** were slightly **below 10,000 people**."
      ]
    },
    {
      "cell_type": "markdown",
      "metadata": {
        "id": "0SuX7yXEAxME"
      },
      "source": [
        "### 5. How many people scheduled for appointments were Hipertensive ?"
      ]
    },
    {
      "cell_type": "code",
      "execution_count": 41,
      "metadata": {
        "colab": {
          "base_uri": "https://localhost:8080/",
          "height": 295
        },
        "id": "MS0JwqJyAxMF",
        "outputId": "0604c9a1-7b34-4754-ff52-175283205816"
      },
      "outputs": [
        {
          "output_type": "display_data",
          "data": {
            "text/plain": [
              "<Figure size 432x288 with 1 Axes>"
            ],
            "image/png": "[encoded data removed]"
          },
          "metadata": {
            "needs_background": "light"
          }
        }
      ],
      "source": [
        "#calling the plot_histogram function and input values\n",
        "plot_histogram('hipertension','hipertension','Distribution of people against Hipertension')"
      ]
    },
    {
      "cell_type": "markdown",
      "metadata": {
        "id": "-otoxWT8AxMF"
      },
      "source": [
        "From the histogram plot of people against hipertension, with 1 depicting True for hipertension and 0 otherwise, we can tell that **majority** of people who went to the hospital **(over 80,000 people)** were **not hipertensive**."
      ]
    },
    {
      "cell_type": "markdown",
      "metadata": {
        "id": "ofqiCv--AxMJ"
      },
      "source": [
        "### 5. How many people did not show up for appointments and were not Hipertensive ?"
      ]
    },
    {
      "cell_type": "code",
      "execution_count": 42,
      "metadata": {
        "colab": {
          "base_uri": "https://localhost:8080/",
          "height": 296
        },
        "id": "upI5Ce7dAxMJ",
        "outputId": "20bf828d-65be-4a50-cedc-1501c519a609"
      },
      "outputs": [
        {
          "output_type": "display_data",
          "data": {
            "text/plain": [
              "<Figure size 432x288 with 1 Axes>"
            ],
            "image/png": "[encoded data removed]"
          },
          "metadata": {
            "needs_background": "light"
          }
        }
      ],
      "source": [
        "#plotting hipertensive and non-hipertensive people who showed up and did not show up for appointmenst \n",
        "plt.hist(no_showup_df.no_show[no_showup_df.hipertension == False], 10, facecolor='g', alpha=1, label='non-hipertensive');\n",
        "plt.hist(no_showup_df.no_show[no_showup_df.hipertension == True], 10, facecolor='r', alpha=1, label='hipertensive');\n",
        "plt.legend()\n",
        "plt.xlabel('Did_not_showup')\n",
        "plt.ylabel('Number of people')\n",
        "plt.title('Appointmennt show-up in relation to Hipertension')\n",
        "plt.grid(True)"
      ]
    },
    {
      "cell_type": "markdown",
      "metadata": {
        "id": "IvaJ56FWAxMK"
      },
      "source": [
        "We can estimate that **about 15,000 people who had no hipertension did not show up for the appointments**. "
      ]
    },
    {
      "cell_type": "markdown",
      "metadata": {
        "id": "bJAAFdZoAxMK"
      },
      "source": [
        "### 6. How many people were Diabetic ?"
      ]
    },
    {
      "cell_type": "code",
      "execution_count": 43,
      "metadata": {
        "colab": {
          "base_uri": "https://localhost:8080/",
          "height": 295
        },
        "id": "Ij8CdcQwAxML",
        "outputId": "6be190a7-748a-4c28-de67-efa4e9bddd50"
      },
      "outputs": [
        {
          "output_type": "display_data",
          "data": {
            "text/plain": [
              "<Figure size 432x288 with 1 Axes>"
            ],
            "image/png": "[encoded data removed]"
          },
          "metadata": {
            "needs_background": "light"
          }
        }
      ],
      "source": [
        "#calling the plot_histogram function and input values\n",
        "plot_histogram('diabetes','diabetes','Distribution of people against diabetes')"
      ]
    },
    {
      "cell_type": "markdown",
      "metadata": {
        "id": "KK3b2x7HAxML"
      },
      "source": [
        "From the histogram, **over 100,000 people had no diabetes**. Very few people who went to the neighbourhood hospitals were diabetic"
      ]
    },
    {
      "cell_type": "markdown",
      "metadata": {
        "id": "Md3d6-v8AxML"
      },
      "source": [
        "### 6.1 How many people who showed up for appointments were Diabetic ?"
      ]
    },
    {
      "cell_type": "code",
      "execution_count": 44,
      "metadata": {
        "colab": {
          "base_uri": "https://localhost:8080/",
          "height": 296
        },
        "id": "XpJIJlQmAxMM",
        "outputId": "50ca6963-9b88-4889-f2a1-79a6dad64386"
      },
      "outputs": [
        {
          "output_type": "display_data",
          "data": {
            "text/plain": [
              "<Figure size 432x288 with 1 Axes>"
            ],
            "image/png": "[encoded data removed]"
          },
          "metadata": {
            "needs_background": "light"
          }
        }
      ],
      "source": [
        "#plotting diabetic and non-diabetic people who showed up and did not show up for appointments \n",
        "plt.hist(no_showup_df.no_show[no_showup_df.diabetes == False], 10, facecolor='g', alpha=1, label='non-diabetic');\n",
        "plt.hist(no_showup_df.no_show[no_showup_df.diabetes == True], 10, facecolor='r', alpha=1, label='diabetic');\n",
        "plt.legend()\n",
        "plt.xlabel('Did_not_showup')\n",
        "plt.ylabel('Number of people')\n",
        "plt.title('Appointmennt show-up in relation to Diabetis')\n",
        "plt.grid(True)"
      ]
    },
    {
      "cell_type": "markdown",
      "metadata": {
        "id": "0aRysXOLAxMM"
      },
      "source": [
        "We were able to note that less than 10,000 people who shwowed up for the appointments were diabetic. "
      ]
    },
    {
      "cell_type": "markdown",
      "metadata": {
        "id": "T9SxDyJ9AxMN"
      },
      "source": [
        "### 7. How many people are non-alcoholic ?"
      ]
    },
    {
      "cell_type": "code",
      "execution_count": 45,
      "metadata": {
        "colab": {
          "base_uri": "https://localhost:8080/",
          "height": 295
        },
        "id": "_p5WTqidAxMN",
        "outputId": "ae2b9ed2-fae4-4018-fbf0-11dbb8c49d0b"
      },
      "outputs": [
        {
          "output_type": "display_data",
          "data": {
            "text/plain": [
              "<Figure size 432x288 with 1 Axes>"
            ],
            "image/png": "[encoded data removed]"
          },
          "metadata": {
            "needs_background": "light"
          }
        }
      ],
      "source": [
        "#calling the plot_histogram function and input values\n",
        "plot_histogram('alcoholism','alcoholism','Number of people distributed across alcoholism')"
      ]
    },
    {
      "cell_type": "markdown",
      "metadata": {
        "id": "L3ajXzSyAxMO"
      },
      "source": [
        "After plotting the histogram of number of peaople against alcoholism, it was important to note that, **from the 110,527 people** who visited the hospital **over 100,000 people were not alcoholic**."
      ]
    },
    {
      "cell_type": "markdown",
      "metadata": {
        "id": "Hu2XiN6MAxMP"
      },
      "source": [
        "### 7.1 How many people who are non-alcoholics had appointments?"
      ]
    },
    {
      "cell_type": "code",
      "execution_count": 46,
      "metadata": {
        "colab": {
          "base_uri": "https://localhost:8080/",
          "height": 296
        },
        "id": "iJiqlECDAxMQ",
        "outputId": "b72a2b78-26de-49fc-dbd7-cb9b510b7221"
      },
      "outputs": [
        {
          "output_type": "display_data",
          "data": {
            "text/plain": [
              "<Figure size 432x288 with 1 Axes>"
            ],
            "image/png": "[encoded data removed]"
          },
          "metadata": {
            "needs_background": "light"
          }
        }
      ],
      "source": [
        "#plotting alcoholic and non-alcoholic people who showed up and did not show up for appointments \n",
        "plt.hist(no_showup_df.no_show[no_showup_df.alcoholism == False], 10, facecolor='g', alpha=1, label='non-alcoholic people');\n",
        "plt.hist(no_showup_df.no_show[no_showup_df.alcoholism == True], 10, facecolor='r', alpha=1, label='alcoholic people');\n",
        "plt.legend()\n",
        "plt.xlabel('Did_not_showup')\n",
        "plt.ylabel('Number of people')\n",
        "plt.title('Appointmennt show-up in relation to Alcoholism')\n",
        "plt.grid(True)"
      ]
    },
    {
      "cell_type": "markdown",
      "metadata": {
        "id": "YUirwrqpAxMQ"
      },
      "source": [
        "Around 80,000 people who had the appointments were non-alcoholic"
      ]
    },
    {
      "cell_type": "markdown",
      "metadata": {
        "id": "acbi_NFzAxMR"
      },
      "source": [
        "### 8. From the dataset how many people were handicapped ?"
      ]
    },
    {
      "cell_type": "code",
      "execution_count": 49,
      "metadata": {
        "colab": {
          "base_uri": "https://localhost:8080/",
          "height": 295
        },
        "id": "zeAvzZ0gAxMR",
        "outputId": "0e32eb1c-6525-4e1d-9f8a-33c1537e37b0"
      },
      "outputs": [
        {
          "output_type": "display_data",
          "data": {
            "text/plain": [
              "<Figure size 432x288 with 1 Axes>"
            ],
            "image/png": "[encoded data removed]"
          },
          "metadata": {
            "needs_background": "light"
          }
        }
      ],
      "source": [
        "#calling the plot_histogram function and input values\n",
        "plot_histogram('handcap','handcap','Distribution of People against being handicapped')"
      ]
    },
    {
      "cell_type": "markdown",
      "metadata": {
        "id": "X5kVZ1BFAxMR"
      },
      "source": [
        "With 0 depicting False/Not handicapped and 1 True/Handicapped, after plotting the histogram I noticed that **over 100,000 people were not handicapped**. This also showed that out of the 110,527 people, very little people were handicapped"
      ]
    },
    {
      "cell_type": "markdown",
      "metadata": {
        "id": "uezIEOayAxMS"
      },
      "source": [
        "### 8.1 How many people who did not show up for appointments were handicapped?"
      ]
    },
    {
      "cell_type": "code",
      "execution_count": 50,
      "metadata": {
        "colab": {
          "base_uri": "https://localhost:8080/",
          "height": 296
        },
        "id": "KGyNN9AHAxMS",
        "outputId": "506b94b7-33a4-4b37-a876-843af255d90d"
      },
      "outputs": [
        {
          "output_type": "display_data",
          "data": {
            "text/plain": [
              "<Figure size 432x288 with 1 Axes>"
            ],
            "image/png": "[encoded data removed]"
          },
          "metadata": {
            "needs_background": "light"
          }
        }
      ],
      "source": [
        "#plotting handicapped and non-handicapped people who showed up and did not show up for appointments \n",
        "plt.hist(no_showup_df.no_show[no_showup_df.handcap == False], 10, facecolor='g', alpha=1, label='non-handicapped people');\n",
        "plt.hist(no_showup_df.no_show[no_showup_df.handcap == True], 10, facecolor='r', alpha=1, label='handicapped people');\n",
        "plt.legend()\n",
        "plt.xlabel('Did_not_showup')\n",
        "plt.ylabel('Number of people')\n",
        "plt.title('Appointmennt show-up in relation to Handicapped')\n",
        "plt.grid(True)"
      ]
    },
    {
      "cell_type": "markdown",
      "metadata": {
        "id": "461AE_UkAxMT"
      },
      "source": [
        "I discovered that almost everyone who did not show up for the appointment was not handicapped."
      ]
    },
    {
      "cell_type": "markdown",
      "metadata": {
        "id": "VTvYWnc4AxMT"
      },
      "source": [
        "### 9. How many people received SMS messages to attend an appointment ?"
      ]
    },
    {
      "cell_type": "code",
      "execution_count": 51,
      "metadata": {
        "colab": {
          "base_uri": "https://localhost:8080/",
          "height": 296
        },
        "id": "yDqy2cDpAxMT",
        "outputId": "605fe3c5-08ed-4a67-c036-fcf11bd09687"
      },
      "outputs": [
        {
          "output_type": "display_data",
          "data": {
            "text/plain": [
              "<Figure size 432x288 with 1 Axes>"
            ],
            "image/png": "[encoded data removed]"
          },
          "metadata": {
            "needs_background": "light"
          }
        }
      ],
      "source": [
        "#calling the plot_histogram function and input values\n",
        "plot_histogram('sms_received','sms_received','Number of people against sms_distribution')"
      ]
    },
    {
      "cell_type": "markdown",
      "metadata": {
        "id": "Xk8jawgZAxMU"
      },
      "source": [
        "Upon plotting the histogram, I noticed that **above 30,000 people received SMS for appointments**. "
      ]
    },
    {
      "cell_type": "markdown",
      "metadata": {
        "id": "LvSqUyYuAxMU"
      },
      "source": [
        "### 9.1 How many people who received the SMS showed up for appointment?"
      ]
    },
    {
      "cell_type": "code",
      "execution_count": 52,
      "metadata": {
        "colab": {
          "base_uri": "https://localhost:8080/",
          "height": 296
        },
        "id": "JLaQShaKAxMV",
        "outputId": "12092b9f-581b-4d2d-ad99-d2d313915e5e"
      },
      "outputs": [
        {
          "output_type": "display_data",
          "data": {
            "text/plain": [
              "<Figure size 432x288 with 1 Axes>"
            ],
            "image/png": "[encoded data removed]"
          },
          "metadata": {
            "needs_background": "light"
          }
        }
      ],
      "source": [
        "#plotting handicapped and  non-handicapped people who showed up and did not show up for appointments \n",
        "plt.hist(no_showup_df.no_show[no_showup_df.sms_received == False], 10, facecolor='g', alpha=1, label='did not receive sms');\n",
        "plt.hist(no_showup_df.no_show[no_showup_df.sms_received == True], 10, facecolor='r', alpha=1, label='received sms');\n",
        "plt.legend()\n",
        "plt.xlabel('Did_not_showup')\n",
        "plt.ylabel('Number of people')\n",
        "plt.title('Appointmennt show-up in relation to SMS_Received')\n",
        "plt.grid(True)"
      ]
    },
    {
      "cell_type": "markdown",
      "metadata": {
        "id": "j7UeCb8PAxMV"
      },
      "source": [
        "Above 20,000 people who received SMS showed up for appointments. This plot also projects around 40,000 people who did not receive SMS texts but still showed up for appointments."
      ]
    },
    {
      "cell_type": "markdown",
      "metadata": {
        "id": "0oZxFGEBAxMV"
      },
      "source": [
        "<a id='conclusions'></a>\n",
        "## Section 4: Conclusions and findings communication\n",
        "\n",
        "The investigation done was aimed at finding how the different variables (columns) influence the likelyhood of a patient not showing up for an appointment. The variables that were explored were Gender, Age, Scholarship, Hipertension, Diabetes, Alcoholism, Handcapped, SMS_received, and No-show.\n",
        " \n",
        "My findings were:\n",
        "1. There were a total of 110,527 people. \n",
        "2. Out of the 110,527 people we can tell that many people (above 80,000 people) showed up for for appointments compared to the minority, close to 20,000 people who did not show up for appointments**.\n",
        "3. More females compaperd to males visited the different neighbourhood hospitals. This was approximately 70,000 females visisted compared to around 40,000 males who went to hospital.\n",
        "4. Few elderly people 60 years and above visited the hospital. Majority of the peole who went to hospital were below 60 years old. \n",
        "5. Majority of the people (around 100,000 people) who went to hospital were not beneficiaries of the Bolsa Familia scholarship. Plotting the histogram above, I noticed that the people who had appointments and were under Bosla Scholarship** were slightly below 10,000 people.\n",
        "6. We can tell that majority of people who went to the hospital (over 80,000 people) were not hipertensive. We can estimate that about 15,000 non-hipertensive people did not show up for the appointments. \n",
        "7. Over 100,000 people had no diabetes and we were able to note that less than 10,000 people who shwowed up for the appointments were diabetic. \n",
        "8. From the 110,527 people who visited the hospital over 100,000 people were non-alcoholic and 80,000 people who were non-alcoholic had the appointments. \n",
        "9. Over 100,000 people were not handicapped, depicting that out of the 110,527 people, very little people were handicapped. I equally discovered that almost everyone who did not show up for the appointment was not handicapped.\n",
        "10. Majority of the people did not receive SMS. Above 20,000 people received SMS and showed up for appointments while around 40,000 people who did not receive SMS texts showed up for appointments.\n",
        "\n",
        "**The main focus was on the close to 20,000 people who failed to show up**. Of these 20,000 people\n",
        "1. Around 3,800 people were non=hipertensive.\n",
        "2. Around 1,000 people were diabetic.\n",
        "3. Around 10,000 people received texts.\n",
        "4. Around 500 peopel or less were handicapped.\n",
        "5. Around 1,000 people were alcoholic.\n",
        "6. Around 2,000 people had Bosla Familia scholarship.\n",
        "\n",
        "From this conlclusion based on estimates, around 10,000 people who received SMS texts failed to show up. The other variables too influenced the lack of showing up but SMS_received matric contributed more. This therefore raises the question, \"Why would a patient receive an SMS text and still fall to show up.\" Guided by our correlatioin coefficient table, SMS_received was very low correlated with other variables. Still, correlation deos not imply causation thus SMS_received oughts to be investigated with other variables and importantly.\n",
        "\n",
        "**Recommendations**\n",
        "1. More variables should be introduced to the dataset to help answer questions like, what could be the cause of a patient who received an SMS message for appointment but fail to show up for an appointment after its scheduling. "
      ]
    },
    {
      "cell_type": "markdown",
      "metadata": {
        "id": "7bZN01P6AxMW"
      },
      "source": [
        "<a id='References'></a>\n",
        "## References\n",
        "\n",
        "McKinney, W. (2011). pandas: a foundational Python library for data analysis and statistics. Python for high performance and scientific computing, 14(9), 1-9.\n",
        "\n",
        "Hunter, J. D. (2007). Matplotlib: A 2D graphics environment. Computing in science & engineering, 9(03), 90-95.\n",
        "\n",
        "Van Der Walt, S., Colbert, S. C., & Varoquaux, G. (2011). The NumPy array: a structure for efficient numerical computation. Computing in science & engineering, 13(2), 22-30."
      ]
    }
  ],
  "metadata": {
    "kernelspec": {
      "display_name": "Python 3 (ipykernel)",
      "language": "python",
      "name": "python3"
    },
    "language_info": {
      "codemirror_mode": {
        "name": "ipython",
        "version": 3
      },
      "file_extension": ".py",
      "mimetype": "text/x-python",
      "name": "python",
      "nbconvert_exporter": "python",
      "pygments_lexer": "ipython3",
      "version": "3.9.7"
    },
    "colab": {
      "provenance": [],
      "include_colab_link": true
    }
  },
  "nbformat": 4,
  "nbformat_minor": 0
}